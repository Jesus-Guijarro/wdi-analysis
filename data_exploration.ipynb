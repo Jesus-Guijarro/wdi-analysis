{
 "cells": [
  {
   "cell_type": "code",
   "execution_count": 11,
   "id": "0cf74079",
   "metadata": {},
   "outputs": [],
   "source": [
    "import findspark\n",
    "findspark.init('/opt/spark')\n",
    "\n",
    "from pyspark.sql import SparkSession\n",
    "from pyspark.sql.functions import col, desc\n",
    "\n",
    "spark = SparkSession.builder \\\n",
    "    .appName(\"WDI Data Exploration\") \\\n",
    "    .getOrCreate()"
   ]
  },
  {
   "cell_type": "markdown",
   "id": "69a97d74",
   "metadata": {},
   "source": [
    "# COUNTRIES"
   ]
  },
  {
   "cell_type": "code",
   "execution_count": 12,
   "id": "0b4f8f62",
   "metadata": {},
   "outputs": [
    {
     "name": "stdout",
     "output_type": "stream",
     "text": [
      "Rows: 265\n",
      "Columns: 31\n",
      "Schema:\n",
      "root\n",
      " |-- Country Code: string (nullable = true)\n",
      " |-- Short Name: string (nullable = true)\n",
      " |-- Table Name: string (nullable = true)\n",
      " |-- Long Name: string (nullable = true)\n",
      " |-- 2-alpha code: string (nullable = true)\n",
      " |-- Currency Unit: string (nullable = true)\n",
      " |-- Special Notes: string (nullable = true)\n",
      " |-- Region: string (nullable = true)\n",
      " |-- Income Group: string (nullable = true)\n",
      " |-- WB-2 code: string (nullable = true)\n",
      " |-- National accounts base year: string (nullable = true)\n",
      " |-- National accounts reference year: integer (nullable = true)\n",
      " |-- SNA price valuation: string (nullable = true)\n",
      " |-- Lending category: string (nullable = true)\n",
      " |-- Other groups: string (nullable = true)\n",
      " |-- System of National Accounts: string (nullable = true)\n",
      " |-- Alternative conversion factor: string (nullable = true)\n",
      " |-- PPP survey year: string (nullable = true)\n",
      " |-- Balance of Payments Manual in use: string (nullable = true)\n",
      " |-- External debt Reporting status: string (nullable = true)\n",
      " |-- System of trade: string (nullable = true)\n",
      " |-- Government Accounting concept: string (nullable = true)\n",
      " |-- IMF data dissemination standard: string (nullable = true)\n",
      " |-- Latest population census: string (nullable = true)\n",
      " |-- Latest household survey: string (nullable = true)\n",
      " |-- Source of most recent Income and expenditure data: string (nullable = true)\n",
      " |-- Vital registration complete: string (nullable = true)\n",
      " |-- Latest agricultural census: string (nullable = true)\n",
      " |-- Latest industrial data: integer (nullable = true)\n",
      " |-- Latest trade data: integer (nullable = true)\n",
      " |-- Latest water withdrawal data: string (nullable = true)\n",
      "\n"
     ]
    }
   ],
   "source": [
    "file_path = \"data/Countries.csv\"\n",
    "df_countries = spark.read.csv(file_path, header=True, inferSchema=True)\n",
    "\n",
    "print(\"Rows:\", df_countries.count())\n",
    "print(\"Columns:\", len(df_countries.columns))\n",
    "print(\"Schema:\")\n",
    "df_countries.printSchema()"
   ]
  },
  {
   "cell_type": "code",
   "execution_count": 13,
   "id": "2c1f6af2",
   "metadata": {},
   "outputs": [
    {
     "name": "stdout",
     "output_type": "stream",
     "text": [
      "+------------+--------------------+--------------------+--------------------+------------+--------------------+--------------------+--------------------+-------------------+---------+---------------------------+--------------------------------+--------------------+----------------+------------+---------------------------+-----------------------------+---------------+---------------------------------+------------------------------+--------------------+-----------------------------+-------------------------------+------------------------+-----------------------+-------------------------------------------------+---------------------------+--------------------------+----------------------+-----------------+----------------------------+\n",
      "|Country Code|          Short Name|          Table Name|           Long Name|2-alpha code|       Currency Unit|       Special Notes|              Region|       Income Group|WB-2 code|National accounts base year|National accounts reference year| SNA price valuation|Lending category|Other groups|System of National Accounts|Alternative conversion factor|PPP survey year|Balance of Payments Manual in use|External debt Reporting status|     System of trade|Government Accounting concept|IMF data dissemination standard|Latest population census|Latest household survey|Source of most recent Income and expenditure data|Vital registration complete|Latest agricultural census|Latest industrial data|Latest trade data|Latest water withdrawal data|\n",
      "+------------+--------------------+--------------------+--------------------+------------+--------------------+--------------------+--------------------+-------------------+---------+---------------------------+--------------------------------+--------------------+----------------+------------+---------------------------+-----------------------------+---------------+---------------------------------+------------------------------+--------------------+-----------------------------+-------------------------------+------------------------+-----------------------+-------------------------------------------------+---------------------------+--------------------------+----------------------+-----------------+----------------------------+\n",
      "|         ABW|               Aruba|               Aruba|               Aruba|          AW|       Aruban florin|                NULL|Latin America & C...|        High income|       AW|                       2013|                            NULL|Value added at ba...|            NULL|        NULL|       Country uses the ...|                         NULL|           NULL|                             BPM6|                          NULL|General trade system|                         NULL|           Enhanced General ...|         2020 (expected)|                   NULL|                                             NULL|                        Yes|                      NULL|                  NULL|             2018|                        NULL|\n",
      "|         AFE|Africa Eastern an...|Africa Eastern an...|Africa Eastern an...|          ZH|                NULL|26 countries, str...|                NULL|               NULL|       ZH|                       NULL|                            NULL|                NULL|            NULL|        NULL|                       NULL|                         NULL|           NULL|                             NULL|                          NULL|                NULL|                         NULL|                           NULL|                    NULL|                   NULL|                                             NULL|                       NULL|                      NULL|                  NULL|             NULL|                        NULL|\n",
      "|         AFG|         Afghanistan|         Afghanistan|Islamic State of ...|          AF|      Afghan afghani|The reporting per...|          South Asia|         Low income|       AF|                       2016|                            NULL|Value added at ba...|             IDA|        HIPC|       Country uses the ...|                         NULL|           NULL|                             BPM6|                      Estimate|General trade system|         Consolidated cent...|           Enhanced General ...|                    1979|   Demographic and H...|                             Integrated househ...|                       NULL|                      NULL|                  NULL|             2018|                        NULL|\n",
      "|         AFW|Africa Western an...|Africa Western an...|Africa Western an...|          ZI|                NULL|22 countries, str...|                NULL|               NULL|       ZI|                       NULL|                            NULL|                NULL|            NULL|        NULL|                       NULL|                         NULL|           NULL|                             NULL|                          NULL|                NULL|                         NULL|                           NULL|                    NULL|                   NULL|                                             NULL|                       NULL|                      NULL|                  NULL|             NULL|                        NULL|\n",
      "|         AGO|              Angola|              Angola|People's Republic...|          AO|      Angolan kwanza|The World Bank sy...|  Sub-Saharan Africa|Lower middle income|       AO|                       2002|                            NULL|Value added at ba...|            IBRD|        NULL|       Country uses the ...|                         NULL|           NULL|                             BPM6|                        Actual|General trade system|         Budgetary central...|           Enhanced General ...|                    2014|   Demographic and H...|                             Integrated househ...|                       NULL|                      NULL|                  NULL|             2018|                        NULL|\n",
      "|         ALB|             Albania|             Albania| Republic of Albania|          AL|        Albanian lek|                NULL|Europe & Central ...|Upper middle income|       AL|       Original chained ...|                            2010|Value added at ba...|            IBRD|        NULL|       Country uses the ...|                         NULL|           NULL|                             BPM6|                        Actual|Special trade system|         Consolidated cent...|           Enhanced General ...|         2020 (expected)|   Demographic and H...|                             Living Standards ...|                        Yes|                      2012|                  2013|             2018|                        NULL|\n",
      "|         AND|             Andorra|             Andorra|Principality of A...|          AD|                Euro|                NULL|Europe & Central ...|        High income|       AD|                       2010|                            NULL|Value added at ba...|            NULL|        NULL|       Country uses the ...|                         NULL|           NULL|                             NULL|                          NULL|General trade system|                         NULL|                           NULL|    2011. Population ...|                   NULL|                                             NULL|                        Yes|                      NULL|                  NULL|             2018|                        NULL|\n",
      "|         ARB|          Arab World|          Arab World|          Arab World|          1A|                NULL|Arab World aggreg...|                NULL|               NULL|       1A|                       NULL|                            NULL|                NULL|            NULL|        NULL|                       NULL|                         NULL|           NULL|                             NULL|                          NULL|                NULL|                         NULL|                           NULL|                    NULL|                   NULL|                                             NULL|                       NULL|                      NULL|                  NULL|             NULL|                        NULL|\n",
      "|         ARE|United Arab Emirates|United Arab Emirates|United Arab Emirates|          AE|       U.A.E. dirham|                NULL|Middle East & Nor...|        High income|       AE|                       2010|                            NULL|Value added at pr...|            NULL|        NULL|       Country uses the ...|                         NULL|           NULL|                             NULL|                          NULL|Special trade system|         Consolidated cent...|           Enhanced General ...|         2020 (expected)|   World Health Surv...|                                             NULL|                        Yes|                      2012|                  1985|             2018|                        NULL|\n",
      "|         ARG|           Argentina|           Argentina|  Argentine Republic|          AR|      Argentine peso|The World Bank sy...|Latin America & C...|Upper middle income|       AR|                       2004|                            NULL|Value added at ba...|            IBRD|        NULL|       Country uses the ...|                         NULL|           NULL|                             BPM6|                        Actual|Special trade system|         Consolidated cent...|           Special Data Diss...|         2020 (expected)|   Multiple Indicato...|                             Integrated househ...|                        Yes|                      2008|                  2002|             2018|                        NULL|\n",
      "|         ARM|             Armenia|             Armenia| Republic of Armenia|          AM|       Armenian dram|                NULL|Europe & Central ...|Upper middle income|       AM|       Original chained ...|                            2012|Value added at ba...|            IBRD|        NULL|       Country uses the ...|                         NULL|           NULL|                             BPM6|                        Actual|General trade system|         Consolidated cent...|           Special Data Diss...|         2020 (expected)|   Demographic and H...|                             Integrated househ...|                        Yes|                      2014|                  NULL|             2018|                        NULL|\n",
      "|         ASM|      American Samoa|      American Samoa|      American Samoa|          AS|         U.S. dollar|                NULL| East Asia & Pacific|        High income|       AS|       Original chained ...|                            2012|Value added at ba...|            NULL|        NULL|       Country uses the ...|                         NULL|           NULL|                             NULL|                          NULL|                NULL|                         NULL|                           NULL|         2020 (expected)|                   NULL|                                             NULL|                        Yes|                      2008|                  NULL|             NULL|                        NULL|\n",
      "|         ATG| Antigua and Barbuda| Antigua and Barbuda| Antigua and Barbuda|          AG|East Caribbean do...|                NULL|Latin America & C...|        High income|       AG|                       2018|                            NULL|Value added at ba...|            IBRD|        NULL|       Country uses the ...|                         NULL|           NULL|                             BPM6|                          NULL|General trade system|         Budgetary central...|           Enhanced General ...|                    2011|                   NULL|                                             NULL|                        Yes|                      2007|                  NULL|             2018|                        NULL|\n",
      "|         AUS|           Australia|           Australia|Commonwealth of A...|          AU|   Australian dollar|                NULL| East Asia & Pacific|        High income|       AU|       Original chained ...|                            2023|Value added at ba...|            NULL|        NULL|       Country uses the ...|                         NULL|           NULL|                             BPM6|                          NULL|General trade system|         Consolidated cent...|           Special Data Diss...|                    2016|                   NULL|                             Expenditure surve...|                        Yes|                 2015-2016|                  2013|             2018|                        NULL|\n",
      "|         AUT|             Austria|             Austria| Republic of Austria|          AT|                Euro|A simple multipli...|Europe & Central ...|        High income|       AT|       Original chained ...|                            2015|Value added at ba...|            NULL|   Euro area|       Country uses the ...|                         NULL|           NULL|                             BPM6|                          NULL|Special trade system|         Consolidated cent...|           Special Data Diss...|    2011. Population ...|                   NULL|                             Income survey (IS...|                        Yes|                      2010|                  2014|             2018|                        NULL|\n",
      "|         AZE|          Azerbaijan|          Azerbaijan|Republic of Azerb...|          AZ|     New Azeri manat|                NULL|Europe & Central ...|Upper middle income|       AZ|       Original chained ...|                            2005|Value added at ba...|            IBRD|        NULL|       Country uses the ...|                         NULL|           NULL|                             BPM6|                        Actual|General trade system|         Consolidated cent...|           Enhanced General ...|                    2019|   Demographic and H...|                             Living Standards ...|                        Yes|                      2015|                  2013|             2018|                        NULL|\n",
      "|         BDI|             Burundi|             Burundi| Republic of Burundi|          BI|       Burundi franc|The World Bank sy...|  Sub-Saharan Africa|         Low income|       BI|                       2005|                            NULL|Value added at ba...|             IDA|        HIPC|       Country uses the ...|                         NULL|           NULL|                             BPM6|                        Actual|General trade system|         Budgetary central...|           Enhanced General ...|                    2008|   Demographic and H...|                             Core Welfare Indi...|                       NULL|                      NULL|                  2012|             2018|                        NULL|\n",
      "|         BEL|             Belgium|             Belgium|  Kingdom of Belgium|          BE|                Euro|A simple multipli...|Europe & Central ...|        High income|       BE|       Original chained ...|                            2015|Value added at ba...|            NULL|   Euro area|       Country uses the ...|                         NULL|           NULL|                             BPM6|                          NULL|Special trade system|         Consolidated cent...|           Special Data Diss...|    2011. Population ...|                   NULL|                             Income survey (IS...|                        Yes|                      2010|                  2014|             2018|                        NULL|\n",
      "|         BEN|               Benin|               Benin|   Republic of Benin|          BJ|West African CFA ...|                NULL|  Sub-Saharan Africa|Lower middle income|       BJ|                       2015|                            NULL|Value added at ba...|             IDA|        HIPC|       Country uses the ...|                         NULL|           NULL|                             BPM6|                        Actual|General trade system|         Budgetary central...|           Enhanced General ...|                    2013|   Demographic and H...|                             Core Welfare Indi...|                       NULL|                      NULL|                  1981|             2018|                        NULL|\n",
      "|         BFA|        Burkina Faso|        Burkina Faso|        Burkina Faso|          BF|West African CFA ...|                NULL|  Sub-Saharan Africa|         Low income|       BF|                       2015|                            NULL|Value added at ba...|             IDA|        HIPC|       Country uses the ...|                         NULL|           NULL|                             BPM6|                        Actual|General trade system|         Budgetary central...|           Enhanced General ...|                    2019|   Malaria Indicator...|                             Core Welfare Indi...|                       NULL|                 2006-2010|                  1983|             2018|                        NULL|\n",
      "+------------+--------------------+--------------------+--------------------+------------+--------------------+--------------------+--------------------+-------------------+---------+---------------------------+--------------------------------+--------------------+----------------+------------+---------------------------+-----------------------------+---------------+---------------------------------+------------------------------+--------------------+-----------------------------+-------------------------------+------------------------+-----------------------+-------------------------------------------------+---------------------------+--------------------------+----------------------+-----------------+----------------------------+\n",
      "only showing top 20 rows\n"
     ]
    }
   ],
   "source": [
    "df_countries.show()"
   ]
  },
  {
   "cell_type": "markdown",
   "id": "9efd1b48",
   "metadata": {},
   "source": [
    "# INDICATORS"
   ]
  },
  {
   "cell_type": "code",
   "execution_count": 14,
   "id": "d75ca65d",
   "metadata": {},
   "outputs": [
    {
     "name": "stdout",
     "output_type": "stream",
     "text": [
      "Rows: 1509\n",
      "Columns: 20\n",
      "Schema:\n",
      "root\n",
      " |-- Series Code: string (nullable = true)\n",
      " |-- Topic: string (nullable = true)\n",
      " |-- Indicator Name: string (nullable = true)\n",
      " |-- Short definition: string (nullable = true)\n",
      " |-- Long definition: string (nullable = true)\n",
      " |-- Unit of measure: string (nullable = true)\n",
      " |-- Periodicity: string (nullable = true)\n",
      " |-- Base Period: string (nullable = true)\n",
      " |-- Other notes: string (nullable = true)\n",
      " |-- Aggregation method: string (nullable = true)\n",
      " |-- Limitations and exceptions: string (nullable = true)\n",
      " |-- Notes from original source: string (nullable = true)\n",
      " |-- General comments: string (nullable = true)\n",
      " |-- Source: string (nullable = true)\n",
      " |-- Statistical concept and methodology: string (nullable = true)\n",
      " |-- Development relevance: string (nullable = true)\n",
      " |-- Related source links: string (nullable = true)\n",
      " |-- Other web links: string (nullable = true)\n",
      " |-- Related indicators: string (nullable = true)\n",
      " |-- License Type: string (nullable = true)\n",
      "\n"
     ]
    }
   ],
   "source": [
    "file_path = \"data/Indicators.csv\"\n",
    "df_indicators = spark.read.csv(file_path, header=True, inferSchema=True)\n",
    "\n",
    "print(\"Rows:\", df_indicators.count())\n",
    "print(\"Columns:\", len(df_indicators.columns))\n",
    "print(\"Schema:\")\n",
    "df_indicators.printSchema()"
   ]
  },
  {
   "cell_type": "code",
   "execution_count": 15,
   "id": "e65743f4",
   "metadata": {},
   "outputs": [
    {
     "name": "stdout",
     "output_type": "stream",
     "text": [
      "+-----------------+--------------------+--------------------+----------------+--------------------+---------------+-----------+-----------+--------------------+------------------+--------------------------+--------------------------+----------------+--------------------+-----------------------------------+---------------------+--------------------+---------------+--------------------+--------------------+\n",
      "|      Series Code|               Topic|      Indicator Name|Short definition|     Long definition|Unit of measure|Periodicity|Base Period|         Other notes|Aggregation method|Limitations and exceptions|Notes from original source|General comments|              Source|Statistical concept and methodology|Development relevance|Related source links|Other web links|  Related indicators|        License Type|\n",
      "+-----------------+--------------------+--------------------+----------------+--------------------+---------------+-----------+-----------+--------------------+------------------+--------------------------+--------------------------+----------------+--------------------+-----------------------------------+---------------------+--------------------+---------------+--------------------+--------------------+\n",
      "|AG.CON.FERT.PT.ZS|Environment: Agri...|Fertilizer consum...|            NULL|Fertilizer consum...|           NULL|     Annual|       NULL|The world and reg...|  Weighted average|      The FAO has revis...|                      NULL|            NULL|Food and Agricult...|               \"Fertilizer consu...| \"\" such as zinc a...| composts and oth...|     and wastes| such as sewage s...| temporary meadow...|\n",
      "|   AG.CON.FERT.ZS|Environment: Agri...|Fertilizer consum...|            NULL|Fertilizer consum...|           NULL|     Annual|       NULL|The world and reg...|  Weighted average|      The FAO has revis...|                      NULL|            NULL|Food and Agricult...|               \"Fertilizer consu...| \"\" such as zinc a...| composts and oth...|     and wastes| such as sewage s...| temporary meadow...|\n",
      "|   AG.LND.AGRI.K2|Environment: Land...|Agricultural land...|            NULL|Agricultural land...|           NULL|     Annual|       NULL|Areas of former s...|               Sum|      The data are coll...|                      NULL|            NULL|Food and Agricult...|               Agricultural land...| Agricultural land...|                NULL|           NULL|                NULL|           CC BY-4.0|\n",
      "|   AG.LND.AGRI.ZS|Environment: Land...|Agricultural land...|            NULL|Agricultural land...|           NULL|     Annual|       NULL|Areas of former s...|  Weighted average|      The data are coll...|                      NULL|            NULL|Food and Agricult...|               Agriculture is st...| Agricultural land...|                NULL|           NULL|                NULL|           CC BY-4.0|\n",
      "|   AG.LND.ARBL.HA|Environment: Land...|Arable land (hect...|            NULL|Arable land (in h...|           NULL|     Annual|       NULL|                NULL|              NULL|      The Food and Agri...|                      NULL|            NULL|Food and Agricult...|               \"Temporary fallow...| Agricultural land...|                NULL|           NULL|                NULL|           CC BY-4.0|\n",
      "+-----------------+--------------------+--------------------+----------------+--------------------+---------------+-----------+-----------+--------------------+------------------+--------------------------+--------------------------+----------------+--------------------+-----------------------------------+---------------------+--------------------+---------------+--------------------+--------------------+\n",
      "only showing top 5 rows\n"
     ]
    }
   ],
   "source": [
    "df_indicators.show(5)"
   ]
  },
  {
   "cell_type": "markdown",
   "id": "323e925c",
   "metadata": {},
   "source": [
    "# WDI DATA"
   ]
  },
  {
   "cell_type": "code",
   "execution_count": 16,
   "id": "ffb0b87f",
   "metadata": {},
   "outputs": [
    {
     "name": "stderr",
     "output_type": "stream",
     "text": [
      "[Stage 36:===========================================>              (3 + 1) / 4]\r"
     ]
    },
    {
     "name": "stdout",
     "output_type": "stream",
     "text": [
      "Rows: 401394\n",
      "Columns: 69\n",
      "Schema:\n",
      "root\n",
      " |-- Country Name: string (nullable = true)\n",
      " |-- Country Code: string (nullable = true)\n",
      " |-- Indicator Name: string (nullable = true)\n",
      " |-- Indicator Code: string (nullable = true)\n",
      " |-- 1960: double (nullable = true)\n",
      " |-- 1961: double (nullable = true)\n",
      " |-- 1962: double (nullable = true)\n",
      " |-- 1963: double (nullable = true)\n",
      " |-- 1964: double (nullable = true)\n",
      " |-- 1965: double (nullable = true)\n",
      " |-- 1966: double (nullable = true)\n",
      " |-- 1967: double (nullable = true)\n",
      " |-- 1968: double (nullable = true)\n",
      " |-- 1969: double (nullable = true)\n",
      " |-- 1970: double (nullable = true)\n",
      " |-- 1971: double (nullable = true)\n",
      " |-- 1972: double (nullable = true)\n",
      " |-- 1973: double (nullable = true)\n",
      " |-- 1974: double (nullable = true)\n",
      " |-- 1975: double (nullable = true)\n",
      " |-- 1976: double (nullable = true)\n",
      " |-- 1977: double (nullable = true)\n",
      " |-- 1978: double (nullable = true)\n",
      " |-- 1979: double (nullable = true)\n",
      " |-- 1980: double (nullable = true)\n",
      " |-- 1981: double (nullable = true)\n",
      " |-- 1982: double (nullable = true)\n",
      " |-- 1983: double (nullable = true)\n",
      " |-- 1984: double (nullable = true)\n",
      " |-- 1985: double (nullable = true)\n",
      " |-- 1986: double (nullable = true)\n",
      " |-- 1987: double (nullable = true)\n",
      " |-- 1988: double (nullable = true)\n",
      " |-- 1989: double (nullable = true)\n",
      " |-- 1990: double (nullable = true)\n",
      " |-- 1991: double (nullable = true)\n",
      " |-- 1992: double (nullable = true)\n",
      " |-- 1993: double (nullable = true)\n",
      " |-- 1994: double (nullable = true)\n",
      " |-- 1995: double (nullable = true)\n",
      " |-- 1996: double (nullable = true)\n",
      " |-- 1997: double (nullable = true)\n",
      " |-- 1998: double (nullable = true)\n",
      " |-- 1999: double (nullable = true)\n",
      " |-- 2000: double (nullable = true)\n",
      " |-- 2001: double (nullable = true)\n",
      " |-- 2002: double (nullable = true)\n",
      " |-- 2003: double (nullable = true)\n",
      " |-- 2004: double (nullable = true)\n",
      " |-- 2005: double (nullable = true)\n",
      " |-- 2006: double (nullable = true)\n",
      " |-- 2007: double (nullable = true)\n",
      " |-- 2008: double (nullable = true)\n",
      " |-- 2009: double (nullable = true)\n",
      " |-- 2010: double (nullable = true)\n",
      " |-- 2011: double (nullable = true)\n",
      " |-- 2012: double (nullable = true)\n",
      " |-- 2013: double (nullable = true)\n",
      " |-- 2014: double (nullable = true)\n",
      " |-- 2015: double (nullable = true)\n",
      " |-- 2016: double (nullable = true)\n",
      " |-- 2017: double (nullable = true)\n",
      " |-- 2018: double (nullable = true)\n",
      " |-- 2019: double (nullable = true)\n",
      " |-- 2020: double (nullable = true)\n",
      " |-- 2021: double (nullable = true)\n",
      " |-- 2022: double (nullable = true)\n",
      " |-- 2023: double (nullable = true)\n",
      " |-- 2024: double (nullable = true)\n",
      "\n"
     ]
    },
    {
     "name": "stderr",
     "output_type": "stream",
     "text": [
      "                                                                                \r"
     ]
    }
   ],
   "source": [
    "file_path = \"data/Data.csv\"\n",
    "df_data = spark.read.csv(file_path, header=True, inferSchema=True)\n",
    "\n",
    "print(\"Rows:\", df_data.count())\n",
    "print(\"Columns:\", len(df_data.columns))\n",
    "print(\"Schema:\")\n",
    "df_data.printSchema()"
   ]
  },
  {
   "cell_type": "code",
   "execution_count": 17,
   "id": "d3b60e2a",
   "metadata": {},
   "outputs": [
    {
     "name": "stdout",
     "output_type": "stream",
     "text": [
      "+--------------------+------------+--------------------+-----------------+----+----+----+----+----+----+----+----+----+----+----+----+----+----+----+----+----+----+----+----+----+----+----+----+----+----+----+----+----+----+----+----+----+----+----+----+----+----+----+----+------------------+------------------+------------------+------------------+------------------+------------------+------------------+------------------+------------------+------------------+------------------+------------------+------------------+------------------+------------------+------------------+------------------+------------------+------------------+------------------+------------------+------------------+------------------+-----------------+----+\n",
      "|        Country Name|Country Code|      Indicator Name|   Indicator Code|1960|1961|1962|1963|1964|1965|1966|1967|1968|1969|1970|1971|1972|1973|1974|1975|1976|1977|1978|1979|1980|1981|1982|1983|1984|1985|1986|1987|1988|1989|1990|1991|1992|1993|1994|1995|1996|1997|1998|1999|              2000|              2001|              2002|              2003|              2004|              2005|              2006|              2007|              2008|              2009|              2010|              2011|              2012|              2013|              2014|              2015|              2016|              2017|              2018|              2019|              2020|              2021|              2022|             2023|2024|\n",
      "+--------------------+------------+--------------------+-----------------+----+----+----+----+----+----+----+----+----+----+----+----+----+----+----+----+----+----+----+----+----+----+----+----+----+----+----+----+----+----+----+----+----+----+----+----+----+----+----+----+------------------+------------------+------------------+------------------+------------------+------------------+------------------+------------------+------------------+------------------+------------------+------------------+------------------+------------------+------------------+------------------+------------------+------------------+------------------+------------------+------------------+------------------+------------------+-----------------+----+\n",
      "|Africa Eastern an...|         AFE|Access to clean f...|   EG.CFT.ACCS.ZS|NULL|NULL|NULL|NULL|NULL|NULL|NULL|NULL|NULL|NULL|NULL|NULL|NULL|NULL|NULL|NULL|NULL|NULL|NULL|NULL|NULL|NULL|NULL|NULL|NULL|NULL|NULL|NULL|NULL|NULL|NULL|NULL|NULL|NULL|NULL|NULL|NULL|NULL|NULL|NULL| 11.46092162009378|11.785469025263218| 12.11985170514022|12.506167247271957|12.890711581247318|13.324145166926224|13.790770355794976|14.222858715950077|14.649063216214403|15.151685744937115|15.615566987063321|16.039881873080255|16.520601684393533|16.953687926627758|17.488496745150705|18.001597439514377|18.558233863647725|19.043572004901346|19.586457330942228|20.192063950144117| 20.82881356278047|21.372163511874042|22.100883985636642|             NULL|NULL|\n",
      "|Africa Eastern an...|         AFE|Access to clean f...|EG.CFT.ACCS.RU.ZS|NULL|NULL|NULL|NULL|NULL|NULL|NULL|NULL|NULL|NULL|NULL|NULL|NULL|NULL|NULL|NULL|NULL|NULL|NULL|NULL|NULL|NULL|NULL|NULL|NULL|NULL|NULL|NULL|NULL|NULL|NULL|NULL|NULL|NULL|NULL|NULL|NULL|NULL|NULL|NULL|3.4652346020799736|3.6383238400727107|3.8496629413188668| 4.058893133609485| 4.293539459553134| 4.502731911325209| 4.750627278105147| 5.016144884630683| 5.263235512170559| 5.487487889482121| 5.723222981820964| 6.003738043670954| 6.259134139470673| 6.526446044160284| 6.811503655823998|    7.096002863288| 7.406706406010868| 7.666648211280855| 8.020951752200252| 8.403358142433094|   8.7183062310572| 9.097175575935763|  9.47337435780452|             NULL|NULL|\n",
      "|Africa Eastern an...|         AFE|Access to clean f...|EG.CFT.ACCS.UR.ZS|NULL|NULL|NULL|NULL|NULL|NULL|NULL|NULL|NULL|NULL|NULL|NULL|NULL|NULL|NULL|NULL|NULL|NULL|NULL|NULL|NULL|NULL|NULL|NULL|NULL|NULL|NULL|NULL|NULL|NULL|NULL|NULL|NULL|NULL|NULL|NULL|NULL|NULL|NULL|NULL| 32.19226961992306| 32.59299640385008| 33.03639300267979| 33.52143919265109| 34.04353554809539| 34.46112611321621| 35.03979913979999| 35.62178759857683| 35.99159627018506|36.472376792947294| 36.78881218564761|37.167307750258324| 37.52189256637949| 37.84957190104824|38.152090491874915| 38.48823334143343|  38.7799533368945| 39.06846155236532| 39.44552612171725|39.818644955516454|40.276374002917315|   40.687816591166|41.211605971216976|             NULL|NULL|\n",
      "|Africa Eastern an...|         AFE|Access to electri...|   EG.ELC.ACCS.ZS|NULL|NULL|NULL|NULL|NULL|NULL|NULL|NULL|NULL|NULL|NULL|NULL|NULL|NULL|NULL|NULL|NULL|NULL|NULL|NULL|NULL|NULL|NULL|NULL|NULL|NULL|NULL|NULL|NULL|NULL|NULL|NULL|NULL|NULL|NULL|NULL|NULL|NULL|NULL|NULL|19.917256334288883|19.944277420358322| 21.54864661556247|22.493216718205154| 23.72445493261505| 23.44953935560601| 25.17248231059687|26.795144586214697|25.908845134445723|26.187846478111133|27.414953756331975|28.909756234126966|31.673427461917534|31.723573573148343|31.871956128357937| 33.92227566227576| 38.85959765837143| 40.22374417303676| 43.03507335078354| 44.39086053336395| 46.28237094556367| 48.12721104004846|48.801257960765845|50.66833048301674|NULL|\n",
      "|Africa Eastern an...|         AFE|Access to electri...|EG.ELC.ACCS.RU.ZS|NULL|NULL|NULL|NULL|NULL|NULL|NULL|NULL|NULL|NULL|NULL|NULL|NULL|NULL|NULL|NULL|NULL|NULL|NULL|NULL|NULL|NULL|NULL|NULL|NULL|NULL|NULL|NULL|NULL|NULL|NULL|NULL|NULL|NULL|NULL|NULL|NULL|NULL|NULL|NULL| 8.623663330721701|              NULL|              NULL| 9.785571044084923|10.942222017386197|10.440734126930462|12.562724603126671|12.514077636622208|12.981137993840658| 15.54905717875405|14.541253468174322|16.158960728057796|19.442860056577075|18.775073894999725|  17.6729432536291|16.527554027478747| 24.62775345956314|25.432092246590443|27.061928851182508|29.154281732597024| 31.02208287173637| 32.80913843463483|33.783960498223756|35.37521585480586|NULL|\n",
      "+--------------------+------------+--------------------+-----------------+----+----+----+----+----+----+----+----+----+----+----+----+----+----+----+----+----+----+----+----+----+----+----+----+----+----+----+----+----+----+----+----+----+----+----+----+----+----+----+----+------------------+------------------+------------------+------------------+------------------+------------------+------------------+------------------+------------------+------------------+------------------+------------------+------------------+------------------+------------------+------------------+------------------+------------------+------------------+------------------+------------------+------------------+------------------+-----------------+----+\n",
      "only showing top 5 rows\n"
     ]
    }
   ],
   "source": [
    "df_data.show(5)"
   ]
  },
  {
   "cell_type": "code",
   "execution_count": 18,
   "id": "950c6c22",
   "metadata": {},
   "outputs": [
    {
     "name": "stdout",
     "output_type": "stream",
     "text": [
      "Rows after filter: 210\n"
     ]
    }
   ],
   "source": [
    "years = [str(y) for y in range(1960, 2024)]\n",
    "countries      = [\"DEU\", \"FRA\", \"ITA\", \"GBR\", \"ESP\"]\n",
    "indicators = {\n",
    "    \"economic\": [\"NY.GDP.MKTP.CD\",\"NY.GDP.PCAP.CD\",\"NY.GDP.MKTP.KD.ZG\",\n",
    "                 \"NY.GNP.PCAP.CD\",\"SI.POV.GINI\",\"FP.CPI.TOTL.ZG\"],\n",
    "    \"education\": [\"SE.XPD.TOTL.GB.ZS\",\"SE.XPD.TOTL.GD.ZS\",\"SE.SEC.ENRR\",\"SE.TER.ENRR\",\n",
    "                  \"SE.TER.CUAT.BA.ZS\",\"SE.TER.CUAT.MS.ZS\",\"SE.TER.CUAT.DO.ZS\",\n",
    "                  \"SE.TER.ENRL.TC.ZS\",\"SE.XPD.CPRM.ZS\",\"SE.XPD.CSEC.ZS\",\"SE.XPD.CTER.ZS\",\n",
    "                  \"SE.XPD.PRIM.PC.ZS\",\"SE.XPD.SECO.PC.ZS\",\"SE.XPD.TERT.PC.ZS\"],\n",
    "    \"energy\": [\"EG.USE.PCAP.KG.OE\",\"EG.USE.ELEC.KH.PC\",\"EG.ELC.NUCL.ZS\",\n",
    "               \"EG.ELC.RNEW.ZS\",\"EG.GDP.PUSE.KO.PP.KD\"],\n",
    "    \"research_dev\": [\"GB.XPD.RSDV.GD.ZS\",\"SP.POP.SCIE.RD.P6\",\"SP.POP.TECH.RD.P6\",\n",
    "                     \"IP.PAT.RESD\",\"IP.PAT.NRES\",\"IP.JRN.ARTC.SC\",\"IT.NET.USER.ZS\",\n",
    "                     \"IT.CEL.SETS.P2\",\"IT.NET.BBND.P2\",\"IT.NET.SECR.P6\",\n",
    "                     \"TX.VAL.TECH.MF.ZS\",\"TX.VAL.TECH.CD\"],\n",
    "    \"labour\": [\"SL.UEM.TOTL.ZS\",\"SL.UEM.1524.ZS\"],\n",
    "    \"health\": [\"SP.DYN.LE00.IN\",\"SH.XPD.CHEX.GD.ZS\",\"SP.POP.65UP.TO.ZS\"]\n",
    "}\n",
    "\n",
    "all_indicators = [code for group in indicators.values() for code in group]\n",
    "\n",
    "df_focus = (df_data\n",
    "            .filter(col(\"Country Code\").isin(countries))\n",
    "            .filter(col(\"Indicator Code\").isin(all_indicators)))\n",
    "\n",
    "print(\"Rows after filter:\", df_focus.count())"
   ]
  },
  {
   "cell_type": "code",
   "execution_count": 19,
   "id": "a36ae682",
   "metadata": {},
   "outputs": [
    {
     "name": "stdout",
     "output_type": "stream",
     "text": [
      "+------------+------------+--------------------+-----------------+----+----+----+----+----+----+----+----+----+----+----+----+----+----+----+----+----+----+----+----+----+----+----+----+----+----+----+----+----+----+------------------+------------------+------------------+-----------------+-----------------+-----------------+-----------------+------------------+-----------------+-----------------+------------------+-----------------+-----------------+------------------+-----------------+-----------------+-----------------+-----------------+-----------------+------------------+-----------------+-----------------+-----------------+------------------+------------------+------------------+-----------------+-----------------+------------------+------------------+------------------+------------------+------------------+------------------+----+\n",
      "|Country Name|Country Code|      Indicator Name|   Indicator Code|1960|1961|1962|1963|1964|1965|1966|1967|1968|1969|1970|1971|1972|1973|1974|1975|1976|1977|1978|1979|1980|1981|1982|1983|1984|1985|1986|1987|1988|1989|              1990|              1991|              1992|             1993|             1994|             1995|             1996|              1997|             1998|             1999|              2000|             2001|             2002|              2003|             2004|             2005|             2006|             2007|             2008|              2009|             2010|             2011|             2012|              2013|              2014|              2015|             2016|             2017|              2018|              2019|              2020|              2021|              2022|              2023|2024|\n",
      "+------------+------------+--------------------+-----------------+----+----+----+----+----+----+----+----+----+----+----+----+----+----+----+----+----+----+----+----+----+----+----+----+----+----+----+----+----+----+------------------+------------------+------------------+-----------------+-----------------+-----------------+-----------------+------------------+-----------------+-----------------+------------------+-----------------+-----------------+------------------+-----------------+-----------------+-----------------+-----------------+-----------------+------------------+-----------------+-----------------+-----------------+------------------+------------------+------------------+-----------------+-----------------+------------------+------------------+------------------+------------------+------------------+------------------+----+\n",
      "|      France|         FRA|Current education...|   SE.XPD.CPRM.ZS|NULL|NULL|NULL|NULL|NULL|NULL|NULL|NULL|NULL|NULL|NULL|NULL|NULL|NULL|NULL|NULL|NULL|NULL|NULL|NULL|NULL|NULL|NULL|NULL|NULL|NULL|NULL|NULL|NULL|NULL|              NULL|              NULL|              NULL|             NULL|             NULL|             NULL|             NULL|              NULL| 91.2052307128906|             NULL|              NULL|             NULL|             NULL|              NULL|             NULL|             NULL|             NULL|             NULL|             NULL|              NULL|             NULL|             NULL|             NULL|              NULL|              NULL|              NULL|             NULL| 93.4001770019531|  92.4885482788086|   91.653938293457|  93.3639526367188|  92.8679885864258|              NULL|              NULL|NULL|\n",
      "|      France|         FRA|Current education...|   SE.XPD.CSEC.ZS|NULL|NULL|NULL|NULL|NULL|NULL|NULL|NULL|NULL|NULL|NULL|NULL|NULL|NULL|NULL|NULL|NULL|NULL|NULL|NULL|NULL|NULL|NULL|NULL|NULL|NULL|NULL|NULL|NULL|NULL|              NULL|              NULL|              NULL|             NULL|             NULL|             NULL|             NULL|              NULL| 89.9079895019531|             NULL|              NULL|             NULL|             NULL|              NULL|             NULL|             NULL|             NULL|             NULL|             NULL|              NULL|             NULL|             NULL|             NULL|              NULL|              NULL|              NULL|             NULL| 92.0089797973633|  91.9614105224609|  90.9904937744141|  90.9860610961914|  89.9639434814453|              NULL|              NULL|NULL|\n",
      "|      France|         FRA|Current education...|   SE.XPD.CTER.ZS|NULL|NULL|NULL|NULL|NULL|NULL|NULL|NULL|NULL|NULL|NULL|NULL|NULL|NULL|NULL|NULL|NULL|NULL|NULL|NULL|NULL|NULL|NULL|NULL|NULL|NULL|NULL|NULL|NULL|NULL|              NULL|              NULL|              NULL|             NULL|             NULL|             NULL|             NULL|              NULL| 88.5827789306641|             NULL|              NULL|             NULL|             NULL|              NULL|             NULL|             NULL|             NULL|             NULL|             NULL|              NULL|             NULL|             NULL|             NULL|              NULL|              NULL|              NULL|             NULL| 91.8386611938477|  91.9402389526367|  91.8755416870117|  91.5787963867188|  91.0378265380859|              NULL|              NULL|NULL|\n",
      "|      France|         FRA|Current health ex...|SH.XPD.CHEX.GD.ZS|NULL|NULL|NULL|NULL|NULL|NULL|NULL|NULL|NULL|NULL|NULL|NULL|NULL|NULL|NULL|NULL|NULL|NULL|NULL|NULL|NULL|NULL|NULL|NULL|NULL|NULL|NULL|NULL|NULL|NULL|              NULL|              NULL|              NULL|             NULL|             NULL|             NULL|             NULL|              NULL|             NULL|             NULL|        9.58447742|        9.7056284|      10.02218628|       10.08283424|      10.16429329|       10.2148447|      10.38566494|      10.31564426|      10.50084686|       11.28756237|      11.22560215|      11.18497562|      11.29740047|       11.39591122|       11.52531433|       11.43985462|      11.49048996|      11.37063789|       11.21033764|       11.09938431|       12.07226849|       12.29229355|        11.8819046|              NULL|NULL|\n",
      "|      France|         FRA|Educational attai...|SE.TER.CUAT.BA.ZS|NULL|NULL|NULL|NULL|NULL|NULL|NULL|NULL|NULL|NULL|NULL|NULL|NULL|NULL|NULL|NULL|NULL|NULL|NULL|NULL|NULL|NULL|NULL|NULL|NULL|NULL|NULL|NULL|NULL|NULL|              NULL|              NULL|              NULL|             NULL|             NULL|             NULL|             NULL|              NULL|             NULL|             NULL|              NULL|             NULL|             NULL|              NULL|             NULL|             NULL|             NULL|             NULL|             NULL|              NULL|             NULL|             NULL|             NULL|              NULL|  16.3899993896484|  17.6599998474121| 17.3999996185303|             18.0|  19.2230129241943|  19.7000007629395|  20.9787750244141|  22.9377460479736|  22.5577774047852|   24.354621887207|NULL|\n",
      "|      France|         FRA|Educational attai...|SE.TER.CUAT.MS.ZS|NULL|NULL|NULL|NULL|NULL|NULL|NULL|NULL|NULL|NULL|NULL|NULL|NULL|NULL|NULL|NULL|NULL|NULL|NULL|NULL|NULL|NULL|NULL|NULL|NULL|NULL|NULL|NULL|NULL|NULL|              NULL|              NULL|              NULL|             NULL|             NULL|             NULL|             NULL|              NULL|             NULL|             NULL|              NULL|             NULL|             NULL|              NULL|             NULL|             NULL|             NULL|             NULL|             NULL|              NULL|             NULL|             NULL|             NULL|              NULL|  8.35000038146973|  8.77000045776367| 9.10000038146973|              9.5|  10.2605886459351|  10.5100002288818|  11.3593702316284|  12.5453929901123|  12.3494729995728|  13.4551181793213|NULL|\n",
      "|      France|         FRA|Educational attai...|SE.TER.CUAT.DO.ZS|NULL|NULL|NULL|NULL|NULL|NULL|NULL|NULL|NULL|NULL|NULL|NULL|NULL|NULL|NULL|NULL|NULL|NULL|NULL|NULL|NULL|NULL|NULL|NULL|NULL|NULL|NULL|NULL|NULL|NULL|              NULL|              NULL|              NULL|             NULL|             NULL|             NULL|             NULL|              NULL|             NULL|             NULL|              NULL|             NULL|             NULL|              NULL|             NULL|             NULL|             NULL|             NULL|             NULL|              NULL|             NULL|             NULL|             NULL|              NULL| 0.709999978542328| 0.759999990463257|0.800000011920929|0.839999973773956| 0.832355260848999| 0.850000023841858| 0.890448331832886| 0.931437194347382| 0.912756323814392|  1.06558990478516|NULL|\n",
      "|      France|         FRA|Electric power co...|EG.USE.ELEC.KH.PC|NULL|NULL|NULL|NULL|NULL|NULL|NULL|NULL|NULL|NULL|NULL|NULL|NULL|NULL|NULL|NULL|NULL|NULL|NULL|NULL|NULL|NULL|NULL|NULL|NULL|NULL|NULL|NULL|NULL|NULL| 5966.425711932364| 6360.307763867902| 6476.280764232636|6453.384656985978|6530.651406645474|6622.009256298662|6904.985773122642| 6832.769961265718|7014.989229894779|7148.657896949036| 7223.796333934523|7341.425465787748|7298.420430083138| 7528.933199924722|7661.146207696587|7652.666423280698|7540.165685821499|7518.984443011836|7647.939616916574|  7342.59262865289|7737.802837689559|7342.851322825253|7469.197157943143| 7501.310798647449| 7100.834302148959| 7201.359037541952|7269.891552234257|7220.984721305263|  7148.74642241051| 7049.576592796709| 6676.206943939234| 6942.445235649213| 6677.395134637082| 6456.644099379437|NULL|\n",
      "|      France|         FRA|Electricity produ...|   EG.ELC.NUCL.ZS|NULL|NULL|NULL|NULL|NULL|NULL|NULL|NULL|NULL|NULL|NULL|NULL|NULL|NULL|NULL|NULL|NULL|NULL|NULL|NULL|NULL|NULL|NULL|NULL|NULL|NULL|NULL|NULL|NULL|NULL| 74.64771325558347| 72.73341908972371|  72.9976835375875|77.88942810118763| 75.4887631142436| 76.3202191497024|77.39429720080172| 78.34914911741981|75.88660527777562|74.97912724298932| 76.88840160458113|  76.624752060852|78.12357462396903| 77.81235555837823| 78.0835567447605|78.38215050142259|78.31192845674406|77.17702643883125|76.58459479336221|  76.4539814339693|75.27328043675685| 77.1888407898479| 74.2696225117234| 72.75830861884506| 76.22928917352297|  75.4912061797491|71.48137773554399|70.88970036053543| 70.99048454060187| 69.90700347247773| 66.47791002433044|  68.3432357741739| 62.08209055827984| 64.17483078779736|NULL|\n",
      "|      France|         FRA|Energy use (kg of...|EG.USE.PCAP.KG.OE|NULL|NULL|NULL|NULL|NULL|NULL|NULL|NULL|NULL|NULL|NULL|NULL|NULL|NULL|NULL|NULL|NULL|NULL|NULL|NULL|NULL|NULL|NULL|NULL|NULL|NULL|NULL|NULL|NULL|NULL|3840.3801652228767|4038.7408057595553|3949.3543778119906|3997.249432039666|3831.117964658123|3975.889047286107|4186.802467097175|4043.6739448853828|4146.554545428808|4117.930494938216|4130.1727005808125|4240.433269788545|4220.320248558155|4296.5292271129465|4327.186833048482|4313.696300242903|4214.292346300393|4142.178191182093|4137.719899855621|3938.3863795543925|4040.439554700858|3945.325863367774|3925.354006167856|3922.0300530463737|3752.4492271493664|3795.9498874457026|3715.233468600463| 3700.96956491664|3665.5357299982275|3601.7657084616185|3224.4677085169164|3470.0029734837785|3102.4031092675436|3138.3519103780172|NULL|\n",
      "+------------+------------+--------------------+-----------------+----+----+----+----+----+----+----+----+----+----+----+----+----+----+----+----+----+----+----+----+----+----+----+----+----+----+----+----+----+----+------------------+------------------+------------------+-----------------+-----------------+-----------------+-----------------+------------------+-----------------+-----------------+------------------+-----------------+-----------------+------------------+-----------------+-----------------+-----------------+-----------------+-----------------+------------------+-----------------+-----------------+-----------------+------------------+------------------+------------------+-----------------+-----------------+------------------+------------------+------------------+------------------+------------------+------------------+----+\n",
      "only showing top 10 rows\n"
     ]
    }
   ],
   "source": [
    "df_focus.show(10)"
   ]
  },
  {
   "cell_type": "code",
   "execution_count": 20,
   "id": "6bb86e6f",
   "metadata": {},
   "outputs": [
    {
     "name": "stdout",
     "output_type": "stream",
     "text": [
      "+------------+------------------+\n",
      "|Country Code|2022              |\n",
      "+------------+------------------+\n",
      "|DEU         |3236.728451774681 |\n",
      "|FRA         |3102.4031092675436|\n",
      "|ITA         |2411.651724173114 |\n",
      "|ESP         |2407.9957275008187|\n",
      "|GBR         |2257.1375878230147|\n",
      "+------------+------------------+\n",
      "\n"
     ]
    }
   ],
   "source": [
    "# 1. Ranking of countries by a specific indicator in a given year\n",
    "target_indicator = \"EG.USE.PCAP.KG.OE\"\n",
    "target_year = \"2022\"\n",
    "\n",
    "df_focus \\\n",
    "    .filter(col(\"Indicator Code\") == target_indicator) \\\n",
    "    .select(col(\"Country Code\"), col(target_year)) \\\n",
    "    .orderBy(desc(target_year)) \\\n",
    "    .show(5, False)"
   ]
  },
  {
   "cell_type": "code",
   "execution_count": 21,
   "id": "2cf3474e",
   "metadata": {},
   "outputs": [
    {
     "name": "stdout",
     "output_type": "stream",
     "text": [
      "+--------------+------------+----------------------------------------------------+-----------------+-----------------+-----------------+-----------------+-----------------+-----------------+-----------------+-----------------+-----------------+-----------------+-----------------+-----------------+-----------------+-----------------+-----------------+-----------------+-----------------+-----------------+-----------------+-----------------+-----------------+-----------------+-----------------+-----------------+-----------------+-----------------+-----------------+-----------------+-----------------+-----------------+-----------------+-----------------+-----------------+-----------------+-----------------+-----------------+-----------------+-----------------+-----------------+-----------------+-----------------+-----------------+-----------------+-----------------+-----------------+-----------------+-----------------+-----------------+-----------------+-----------------+-----------------+-----------------+-----------------+-----------------+-----------------+-----------------+-----------------+-----------------+-----------------+-----------------+-----------------+-----------------+-----------------+-----------------+-----------------+\n",
      "|Country Name  |Country Code|Indicator Name                                      |Indicator Code   |1960             |1961             |1962             |1963             |1964             |1965             |1966             |1967             |1968             |1969             |1970             |1971             |1972             |1973             |1974             |1975             |1976             |1977             |1978             |1979             |1980             |1981             |1982             |1983             |1984             |1985             |1986             |1987             |1988             |1989             |1990             |1991             |1992             |1993             |1994             |1995             |1996             |1997             |1998             |1999             |2000             |2001             |2002             |2003             |2004             |2005             |2006             |2007             |2008             |2009             |2010             |2011             |2012             |2013             |2014             |2015             |2016             |2017             |2018             |2019             |2020             |2021             |2022             |2023             |\n",
      "+--------------+------------+----------------------------------------------------+-----------------+-----------------+-----------------+-----------------+-----------------+-----------------+-----------------+-----------------+-----------------+-----------------+-----------------+-----------------+-----------------+-----------------+-----------------+-----------------+-----------------+-----------------+-----------------+-----------------+-----------------+-----------------+-----------------+-----------------+-----------------+-----------------+-----------------+-----------------+-----------------+-----------------+-----------------+-----------------+-----------------+-----------------+-----------------+-----------------+-----------------+-----------------+-----------------+-----------------+-----------------+-----------------+-----------------+-----------------+-----------------+-----------------+-----------------+-----------------+-----------------+-----------------+-----------------+-----------------+-----------------+-----------------+-----------------+-----------------+-----------------+-----------------+-----------------+-----------------+-----------------+-----------------+-----------------+-----------------+-----------------+\n",
      "|France        |FRA         |Current health expenditure (% of GDP)               |SH.XPD.CHEX.GD.ZS|NULL             |NULL             |NULL             |NULL             |NULL             |NULL             |NULL             |NULL             |NULL             |NULL             |NULL             |NULL             |NULL             |NULL             |NULL             |NULL             |NULL             |NULL             |NULL             |NULL             |NULL             |NULL             |NULL             |NULL             |NULL             |NULL             |NULL             |NULL             |NULL             |NULL             |NULL             |NULL             |NULL             |NULL             |NULL             |NULL             |NULL             |NULL             |NULL             |NULL             |9.58447742       |9.7056284        |10.02218628      |10.08283424      |10.16429329      |10.2148447       |10.38566494      |10.31564426      |10.50084686      |11.28756237      |11.22560215      |11.18497562      |11.29740047      |11.39591122      |11.52531433      |11.43985462      |11.49048996      |11.37063789      |11.21033764      |11.09938431      |12.07226849      |12.29229355      |11.8819046       |NULL             |\n",
      "|France        |FRA         |Life expectancy at birth, total (years)             |SP.DYN.LE00.IN   |69.86829268292684|70.11707317073171|70.31463414634148|70.51463414634148|70.66341463414635|70.81219512195123|70.96097560975612|71.16097560975611|71.30975609756098|71.45853658536586|71.65853658536587|71.90731707317073|72.10731707317073|72.35609756097561|72.60487804878048|72.85365853658539|73.10243902439025|73.35121951219513|73.60243902439025|73.85121951219513|74.05121951219513|74.30000000000001|74.50000000000001|74.80000000000001|75.0             |75.30000000000001|75.60000000000001|75.8             |76.10000000000001|76.34878048780487|76.60000000000001|76.84878048780489|77.10000000000001|77.30000000000001|77.64878048780488|77.75121951219512|77.95365853658538|78.3048780487805 |78.60487804878049|78.7560975609756 |79.05609756097562|79.15853658536587|79.26097560975612|79.11463414634147|80.16341463414635|80.16341463414635|80.81219512195123|81.11219512195123|81.21463414634148|81.41463414634147|81.66341463414635|82.11463414634147|81.96829268292684|82.21951219512196|82.71951219512195|82.3219512195122 |82.57317073170732|82.57560975609756|82.67560975609757|82.8268292682927 |82.17560975609757|82.32439024390244|82.12926829268294|82.92926829268293|\n",
      "|France        |FRA         |Population ages 65 and above (% of total population)|SP.POP.65UP.TO.ZS|11.5125067433521 |11.5978049140148 |11.728358867558  |11.8249075909435 |11.9418243560769 |12.0960542990841 |12.2700512533828 |12.4669830457984 |12.6310154686992 |12.7474925923878 |12.8577428152105 |12.9717014927887 |13.0784381652448 |13.1900814785263 |13.3182305691939 |13.463627086816  |13.5836132072644 |13.7081548795741 |13.8552227200813 |13.9789541902073 |13.9263213602714 |13.6397324914424 |13.3106111158618 |13.0355287584403 |12.8388611487775 |12.8941553694394 |13.1386237077977 |13.364641651271  |13.5773687408425 |13.7756817569744 |13.9827709266386 |14.2066198121179 |14.4216432076035 |14.635725153185  |14.8617126558386 |15.1008202937428 |15.3295626256522 |15.539898812778  |15.7266480155027 |15.8809197922761 |16.0086458283083 |16.1191468960649 |16.2151106246385 |16.2833219150672 |16.3656994827148 |16.4377318294942 |16.4417997065665 |16.4622881383827 |16.5489941970548 |16.6603292280856 |16.7822818238459 |17.0554720144704 |17.4830959695717 |17.9295780155891 |18.387873214191  |18.8516269618174 |19.2846641669454 |19.6708486830069 |20.0394210628073 |20.4100888765873 |20.747440901072  |21.0507539717053 |21.3773491158756 |21.7491423914771 |\n",
      "|Germany       |DEU         |Current health expenditure (% of GDP)               |SH.XPD.CHEX.GD.ZS|NULL             |NULL             |NULL             |NULL             |NULL             |NULL             |NULL             |NULL             |NULL             |NULL             |NULL             |NULL             |NULL             |NULL             |NULL             |NULL             |NULL             |NULL             |NULL             |NULL             |NULL             |NULL             |NULL             |NULL             |NULL             |NULL             |NULL             |NULL             |NULL             |NULL             |NULL             |NULL             |NULL             |NULL             |NULL             |NULL             |NULL             |NULL             |NULL             |NULL             |9.88843536       |9.92069149       |10.18365669      |10.40202236      |10.14603233      |10.31153965      |10.17995167      |10.05132961      |10.25128746      |11.23791218      |11.09592915      |10.77844906      |10.85345554      |10.99905777      |11.02588272      |11.19027996      |11.24166584      |11.32552433      |11.47314644      |11.71595001      |12.6902256       |12.90171242      |12.60513115      |11.79903221      |\n",
      "|Germany       |DEU         |Life expectancy at birth, total (years)             |SP.DYN.LE00.IN   |69.0640731707317 |69.64487804878048|69.79921951219512|69.91407317073171|70.43556097560976|70.41036585365855|70.52158536585367|70.73173170731707|70.37846341463415|70.22880487804878|70.44719512195122|70.67675609756098|70.90670731707318|71.11280487804879|71.4189268292683 |71.25924390243904|71.71221951219512|72.30731707317074|72.29041463414636|72.63017073170732|72.80031707317075|73.04021951219512|73.33314634146342|73.62214634146343|74.07229268292684|74.18909756097561|74.3968292682927 |74.80702439024391|74.99873170731708|75.19153658536587|75.08563414634146|75.31951219512196|75.81951219512196|75.87073170731709|76.27073170731707|76.42195121951221|76.67317073170733|77.07317073170732|77.47560975609757|77.72682926829269|77.92682926829269|78.32926829268293|78.22926829268293|78.38048780487806|78.68048780487807|78.93170731707318|79.1317073170732 |79.53414634146343|79.73658536585367|79.83658536585368|79.98780487804879|80.43658536585367|80.53902439024391|80.49024390243903|81.09024390243904|80.64146341463415|80.99024390243903|80.99268292682929|80.89268292682927|81.29268292682927|81.04146341463415|80.79024390243903|80.6080487804878 |80.54146341463417|\n",
      "|Germany       |DEU         |Population ages 65 and above (% of total population)|SP.POP.65UP.TO.ZS|11.4754837861399 |11.6846428045104 |11.9031043730244 |12.0832537043708 |12.2932553180881 |12.507066887654  |12.7442424055095 |13.0455382743826 |13.2928756907914 |13.4480155536755 |13.6628265399946 |13.8982051281528 |14.1040796428162 |14.3225114059237 |14.5719695796125 |14.83828051597   |15.0630913830184 |15.2877329942733 |15.4961765233891 |15.632358442999  |15.5965766619901 |15.3331217707925 |14.9756202587493 |14.6243153974981 |14.4470695691773 |14.5315912385255 |14.7006163681106 |14.8448597302842 |14.9087351289199 |14.8813773806178 |14.8673064129016 |14.9020513455031 |14.9477775334936 |15.0472243823376 |15.2181565798793 |15.3977997568773 |15.5408622954013 |15.6492956068092 |15.8293702822951 |16.1122722860238 |16.4607313825805 |16.8557051631062 |17.2650364693375 |17.7182569255381 |18.2658061525647 |18.8586850514415 |19.4956220823608 |19.9911941840778 |20.2873147195182 |20.5215956309191 |20.5654453486144 |20.5214981321516 |20.6376494265399 |20.8129761139965 |20.9586686898656 |21.0533536816501 |21.134996177657  |21.2936405100178 |21.4497613850113 |21.6283933065816 |21.8447281174981 |22.1345373657439 |22.4589063795192 |22.7900439454493 |\n",
      "|Italy         |ITA         |Current health expenditure (% of GDP)               |SH.XPD.CHEX.GD.ZS|NULL             |NULL             |NULL             |NULL             |NULL             |NULL             |NULL             |NULL             |NULL             |NULL             |NULL             |NULL             |NULL             |NULL             |NULL             |NULL             |NULL             |NULL             |NULL             |NULL             |NULL             |NULL             |NULL             |NULL             |NULL             |NULL             |NULL             |NULL             |NULL             |NULL             |NULL             |NULL             |NULL             |NULL             |NULL             |NULL             |NULL             |NULL             |NULL             |NULL             |7.56665516       |7.7376852        |7.86693573       |7.83297729       |8.16549301       |8.33931828       |8.43673038       |8.13616276       |8.53282356       |8.95162296       |8.91602039       |8.77407074       |8.78352833       |8.77543831       |8.86791801       |8.85689163       |8.72533035       |8.67773914       |8.68187714       |8.65633965       |9.62485981       |9.34389782       |9.02753067       |8.51808929       |\n",
      "|Italy         |ITA         |Life expectancy at birth, total (years)             |SP.DYN.LE00.IN   |69.1239024390244 |69.76024390243904|69.14975609756098|69.24804878048782|70.31170731707319|70.17170731707319|70.92609756097562|70.95658536585367|70.78            |70.81195121951221|71.55878048780488|71.80682926829269|72.07536585365855|72.02634146341464|72.73439024390245|72.64731707317075|72.9919512195122 |73.36463414634147|73.69317073170733|74.00268292682927|73.94317073170733|74.3539024390244 |74.81463414634148|74.64024390243902|75.38951219512195|75.47073170731709|75.77073170731707|76.21951219512196|76.37073170731708|76.81951219512197|76.97073170731707|77.01951219512195|77.41951219512197|77.72195121951219|77.92195121951221|78.17073170731707|78.52195121951222|78.82439024390244|78.97560975609755|79.42439024390244|79.77804878048782|80.12682926829268|80.22926829268295|79.98292682926831|80.78048780487806|80.78292682926829|81.28292682926829|81.43414634146342|81.48536585365855|81.63658536585366|82.03658536585367|82.1878048780488 |82.23902439024391|82.69024390243902|83.09024390243904|82.5439024390244 |83.24390243902438|82.94634146341465|83.34634146341465|83.49756097560977|82.19512195121952|82.64634146341464|82.70000000000002|83.70000000000002|\n",
      "|Italy         |ITA         |Population ages 65 and above (% of total population)|SP.POP.65UP.TO.ZS|9.50499201699379 |9.65509768248777 |9.78878571877255 |9.88718400563216 |10.0035979325074 |10.1469525658898 |10.3094957388198 |10.4864275962624 |10.6519425106795 |10.8293369087984 |11.0545981764774 |11.3047399479418 |11.5295164267855 |11.7269632839636 |11.9404643249357 |12.1583702438701 |12.3654007857331 |12.585298401827  |12.8312258473925 |13.077984578598  |13.2132380252674 |13.2469161955452 |13.2111291004221 |13.0717602525937 |12.9732886272797 |13.1559179573136 |13.4983651932197 |13.8616752050194 |14.2452677382646 |14.6055852075114 |14.9633877032434 |15.3297769204167 |15.6915923809491 |16.0206868673356 |16.7132235035729 |17.0439775864275 |17.0296419262406 |17.359859146316  |17.640889956251  |17.9210890987134 |18.2167668390368 |18.5127619063707 |18.7987896858146 |19.0525655493978 |19.329212127098  |19.6352354411702 |19.9355953277602 |20.1236179704111 |20.2043389169453 |20.3135164047155 |20.4589612100469 |20.6879338870931 |20.9966444751961 |21.330672420342  |21.6978740078895 |22.0285256126439 |22.3095886391617 |22.558669089969  |22.8062143288843 |23.104171093177  |23.379233231567  |23.6619735523658 |23.929189689659  |24.2187831541913 |\n",
      "|Spain         |ESP         |Current health expenditure (% of GDP)               |SH.XPD.CHEX.GD.ZS|NULL             |NULL             |NULL             |NULL             |NULL             |NULL             |NULL             |NULL             |NULL             |NULL             |NULL             |NULL             |NULL             |NULL             |NULL             |NULL             |NULL             |NULL             |NULL             |NULL             |NULL             |NULL             |NULL             |NULL             |NULL             |NULL             |NULL             |NULL             |NULL             |NULL             |NULL             |NULL             |NULL             |NULL             |NULL             |NULL             |NULL             |NULL             |NULL             |NULL             |6.7992177        |6.76895761       |6.80052757       |7.56327105       |7.65047979       |7.73974037       |7.82905912       |7.91865778       |8.38225937       |9.10764027       |9.1189127        |9.1679697        |9.15596581       |9.06588078       |9.08675957       |9.12383366       |8.94896126       |8.94652462       |8.9985857        |9.1348772        |10.73210335      |10.30862141      |9.73828793       |NULL             |\n",
      "|Spain         |ESP         |Life expectancy at birth, total (years)             |SP.DYN.LE00.IN   |69.10926829268294|69.48048780487805|69.51902439024391|69.68121951219513|70.39975609756098|70.80926829268293|71.05512195121952|71.25292682926829|71.53780487804879|71.05756097560976|72.02731707317074|71.63024390243903|72.8180487804878 |72.61073170731709|72.96975609756099|73.31878048780487|73.6426829268293 |74.1319512195122 |74.29560975609756|74.81878048780487|75.34926829268294|75.52853658536587|76.13414634146342|75.9090243902439 |76.29536585365855|76.25951219512196|76.51048780487805|76.72804878048782|76.74707317073171|76.81365853658538|76.83756097560976|76.97121951219513|77.41            |77.54658536585367|77.90146341463415|77.98073170731708|78.12048780487805|78.60414634146342|78.66585365853659|78.71707317073172|78.96585365853659|79.36829268292684|79.56829268292684|79.61951219512197|79.87073170731709|80.17073170731709|80.8219512195122 |80.87317073170732|81.17560975609757|81.47560975609755|81.6268292682927 |82.47560975609757|82.4268292682927 |83.07804878048782|83.22926829268293|82.83170731707318|83.32926829268293|83.28292682926829|83.43170731707319|83.83170731707318|82.23170731707317|83.1780487804878 |83.13414634146342|83.8829268292683 |\n",
      "|Spain         |ESP         |Population ages 65 and above (% of total population)|SP.POP.65UP.TO.ZS|8.15759584581959 |8.3304221901635  |8.45679148867584 |8.5289189134153  |8.58066620522154 |8.73979793880339 |8.94396715025533 |9.09906523923028 |9.27426989600475 |9.42658470951768 |9.60605124881542 |9.77746553746063 |9.92000779852453 |10.0759341249638 |10.1709271468278 |10.2874532462202 |10.4489972434977 |10.6039160882782 |10.7693496817197 |10.9382682109882 |11.1164590872698 |11.2777336457944 |11.4295736825051 |11.5837953507943 |11.7489757556312 |11.9566905495281 |12.221446437835  |12.537181635354  |12.870131245773  |13.2063744253314 |13.5444757434819 |13.8574177245465 |14.1420678314451 |14.4292549855654 |14.7318464475045 |15.0565114307106 |15.3819986056743 |15.7024263363888 |16.0232228320738 |16.2998343426415 |16.547877414587  |16.8103108793461 |16.9184155055798 |16.8143513811509 |16.6200037719819 |16.5458746280758 |16.5359190105435 |16.4323340980449 |16.4438826004183 |16.624463548763  |16.8924601879808 |17.1687054838507 |17.4565170843771 |17.850818523935  |18.2556448430349 |18.5417546078088 |18.7673388766097 |18.9928200430073 |19.2023408408683 |19.3818276285973 |19.5596160856506 |19.8133822943511 |20.1879992491906 |20.6537075238774 |\n",
      "|United Kingdom|GBR         |Current health expenditure (% of GDP)               |SH.XPD.CHEX.GD.ZS|NULL             |NULL             |NULL             |NULL             |NULL             |NULL             |NULL             |NULL             |NULL             |NULL             |NULL             |NULL             |NULL             |NULL             |NULL             |NULL             |NULL             |NULL             |NULL             |NULL             |NULL             |NULL             |NULL             |NULL             |NULL             |NULL             |NULL             |NULL             |NULL             |NULL             |NULL             |NULL             |NULL             |NULL             |NULL             |NULL             |NULL             |NULL             |NULL             |NULL             |7.15692902       |7.45211363       |7.87847328       |8.07831287       |8.3386755        |8.39430904       |8.54522514       |8.75711441       |9.04033756       |9.84771252       |9.78937912       |9.7956152        |9.89160061       |9.97822475       |9.90305996       |9.83625221       |9.76546955       |9.60016823       |9.73837566       |9.95388126       |11.96547699      |12.01903439      |11.05087757      |10.872015        |\n",
      "|United Kingdom|GBR         |Life expectancy at birth, total (years)             |SP.DYN.LE00.IN   |71.1268292682927 |70.87804878048782|70.92682926829269|70.8268292682927 |71.62439024390244|71.62439024390244|71.57317073170732|72.12439024390244|71.72439024390246|71.7219512195122 |71.97317073170733|72.27317073170734|72.12439024390244|72.32439024390244|72.52439024390245|72.72439024390245|72.77560975609757|73.22439024390245|73.17560975609756|73.27560975609757|73.67560975609757|74.02682926829269|74.17804878048781|74.37804878048782|74.77804878048782|74.62926829268294|74.92926829268295|75.28048780487805|75.38048780487806|75.58292682926832|75.88048780487806|76.08292682926832|76.43414634146342|76.38536585365853|76.88536585365854|76.83658536585367|77.08780487804879|77.21097560975612|77.19024390243904|77.39024390243904|77.74146341463415|77.99268292682927|78.14390243902439|78.44634146341464|78.74634146341464|79.04878048780489|79.2487804878049 |79.44878048780488|79.60000000000001|80.05121951219512|80.40243902439025|80.95121951219512|80.90487804878049|81.0048780487805 |81.3048780487805 |80.95609756097562|81.15609756097562|81.2560975609756 |81.2560975609756 |81.36912195121953|80.33175609756098|80.64731707317074|81.01121951219511|81.2380975609756 |\n",
      "|United Kingdom|GBR         |Population ages 65 and above (% of total population)|SP.POP.65UP.TO.ZS|11.6954839359523 |11.7590943668972 |11.8040630486116 |11.8998287437616 |12.0565272157805 |12.2185332607308 |12.3739747485677 |12.5438125723517 |12.7248712182409 |12.9076535373908 |13.1063974592752 |13.3107031386372 |13.5028000290803 |13.6953212456972 |13.9059637996744 |14.1138898749679 |14.2998794793088 |14.487207527572  |14.6824909513803 |14.8561824457077 |14.9941785224337 |15.0721047323467 |15.0626178720745 |14.9718648213764 |14.9541604554516 |15.1147446372884 |15.3124935987851 |15.4561875818232 |15.6504023963646 |15.812313307079  |15.8723467853831 |15.9255736650136 |15.9641385979724 |15.9763702472184 |15.9819872361187 |15.9941182331737 |15.9936638234577 |15.9779916498493 |15.9457379399543 |15.9046424190137 |15.8897578485505 |15.9091370627726 |15.931456068173  |15.944049006037  |15.9607524797213 |15.9578367640377 |15.9311877692873 |15.9485662135398 |16.0367055435496 |16.1801963230047 |16.3383853690104 |16.5874649936032 |16.9733440416117 |17.3279065798855 |17.5840843935351 |17.7699801979471 |17.9162025708266 |18.0734136212163 |18.2557500676941 |18.457958087858  |18.6057953275723 |18.7186487679579 |18.9303147227989 |19.238129106618  |\n",
      "+--------------+------------+----------------------------------------------------+-----------------+-----------------+-----------------+-----------------+-----------------+-----------------+-----------------+-----------------+-----------------+-----------------+-----------------+-----------------+-----------------+-----------------+-----------------+-----------------+-----------------+-----------------+-----------------+-----------------+-----------------+-----------------+-----------------+-----------------+-----------------+-----------------+-----------------+-----------------+-----------------+-----------------+-----------------+-----------------+-----------------+-----------------+-----------------+-----------------+-----------------+-----------------+-----------------+-----------------+-----------------+-----------------+-----------------+-----------------+-----------------+-----------------+-----------------+-----------------+-----------------+-----------------+-----------------+-----------------+-----------------+-----------------+-----------------+-----------------+-----------------+-----------------+-----------------+-----------------+-----------------+-----------------+-----------------+-----------------+-----------------+\n",
      "\n"
     ]
    }
   ],
   "source": [
    "# 2. Show full wide table for health indicators\n",
    "health_codes = [\"SP.DYN.LE00.IN\", \"SH.XPD.CHEX.GD.ZS\", \"SP.POP.65UP.TO.ZS\"]\n",
    "\n",
    "df_focus \\\n",
    "    .filter(col(\"Indicator Code\").isin(health_codes)) \\\n",
    "    .select(\"Country Name\", \"Country Code\", \"Indicator Name\", \"Indicator Code\", *years) \\\n",
    "    .show(truncate=False)"
   ]
  },
  {
   "cell_type": "code",
   "execution_count": 22,
   "id": "cd6b529f",
   "metadata": {},
   "outputs": [
    {
     "name": "stdout",
     "output_type": "stream",
     "text": [
      "+------------+------------+-------------------------------------------------------------------------+--------------------+----+----+----+----+----+----+----+----+----+----+----+----+----+----+----+----+----+----+----+----+----+----+----+----+----+----+------------------+------------------+------------------+------------------+------------------+------------------+------------------+------------------+------------------+------------------+------------------+------------------+------------------+------------------+------------------+------------------+------------------+------------------+------------------+------------------+------------------+------------------+------------------+------------------+------------------+------------------+------------------+------------------+------------------+------------------+------------------+------------------+------------------+------------------+----+\n",
      "|Country Name|Country Code|Indicator Name                                                           |Indicator Code      |1964|1965|1966|1967|1968|1969|1970|1971|1972|1973|1974|1975|1976|1977|1978|1979|1980|1981|1982|1983|1984|1985|1986|1987|1988|1989|1990              |1991              |1992              |1993              |1994              |1995              |1996              |1997              |1998              |1999              |2000              |2001              |2002              |2003              |2004              |2005              |2006              |2007              |2008              |2009              |2010              |2011              |2012              |2013              |2014              |2015              |2016              |2017              |2018              |2019              |2020              |2021              |2022              |2023              |2024|\n",
      "+------------+------------+-------------------------------------------------------------------------+--------------------+----+----+----+----+----+----+----+----+----+----+----+----+----+----+----+----+----+----+----+----+----+----+----+----+----+----+------------------+------------------+------------------+------------------+------------------+------------------+------------------+------------------+------------------+------------------+------------------+------------------+------------------+------------------+------------------+------------------+------------------+------------------+------------------+------------------+------------------+------------------+------------------+------------------+------------------+------------------+------------------+------------------+------------------+------------------+------------------+------------------+------------------+------------------+----+\n",
      "|Spain       |ESP         |Electric power consumption (kWh per capita)                              |EG.USE.ELEC.KH.PC   |NULL|NULL|NULL|NULL|NULL|NULL|NULL|NULL|NULL|NULL|NULL|NULL|NULL|NULL|NULL|NULL|NULL|NULL|NULL|NULL|NULL|NULL|NULL|NULL|NULL|NULL|3536.8271577856585|3607.802788742787 |3690.693155123956 |3638.628253331918 |3756.1656257835198|3917.4505117177127|4009.089830666707 |4324.57043068883  |4479.221342921624 |4815.6238877110445|5167.711072981314 |5422.34433278176  |5576.256630272026 |5675.642714828003 |5891.538572563024 |6111.356670554511 |6105.188468700103 |6054.529213572757 |6025.77275684571  |5652.595932967676 |5706.563062799139 |5599.35598067865  |5573.379801682828 |5409.389887976298 |5355.965491360513 |5474.645704391825 |5501.197378146514 |5603.216741588843 |5554.924708566142 |5416.991258503768 |5088.5182523075   |5239.519979355402 |5182.695236451872 |5110.85174105768  |NULL|\n",
      "|Spain       |ESP         |Electricity production from nuclear sources (% of total)                 |EG.ELC.NUCL.ZS      |NULL|NULL|NULL|NULL|NULL|NULL|NULL|NULL|NULL|NULL|NULL|NULL|NULL|NULL|NULL|NULL|NULL|NULL|NULL|NULL|NULL|NULL|NULL|NULL|NULL|NULL|35.72072694720352 |35.672428289933954|35.14446642557427 |35.75209499878828 |34.174837661334664|33.18870070022143 |32.28838867584934 |29.04276215585971 |30.21934677485452 |28.26067122215446 |27.71263609957767 |26.990798013862292|25.725961518834378|23.733630986628615|22.718538149971067|19.565564823536214|20.078207701221203|18.063063210723172|18.795696045997236|17.908152874889687|20.558689603252777|19.642194747606748|20.658157401246143|19.859889157689466|20.557921284022544|20.360897223675824|21.338860360081668|21.04952017582673 |20.319035751242474|21.353158382035957|22.135526420703716|20.620315553092826|20.03391986432054 |19.91902522056171 |NULL|\n",
      "|Spain       |ESP         |Energy use (kg of oil equivalent per capita)                             |EG.USE.PCAP.KG.OE   |NULL|NULL|NULL|NULL|NULL|NULL|NULL|NULL|NULL|NULL|NULL|NULL|NULL|NULL|NULL|NULL|NULL|NULL|NULL|NULL|NULL|NULL|NULL|NULL|NULL|NULL|2317.970175748774 |2398.218049487063 |2430.8843724678773|2319.501585127189 |2435.9412728284715|2537.0165497921284|2489.2912282467632|2634.7099320343373|2756.255556482653 |2878.012365927272 |2991.4930647137353|3048.8438447246263|3095.9968684376295|3145.402392536701 |3226.289428743209 |3239.5443647180596|3190.7262771089177|3168.9597095659624|3015.0079897473797|2749.8554890736236|2735.1825733748647|2684.3431891894684|2677.180385523823 |2505.4034297111248|2457.5060109516858|2551.1631589117815|2561.577718806244 |2689.2267256315704|2665.3638536016497|2573.0123602646386|2303.210086745935 |2421.830642204789 |2407.9957275008187|2296.7080422926656|NULL|\n",
      "|Spain       |ESP         |GDP per unit of energy use (constant 2021 PPP $ per kg of oil equivalent)|EG.GDP.PUSE.KO.PP.KD|NULL|NULL|NULL|NULL|NULL|NULL|NULL|NULL|NULL|NULL|NULL|NULL|NULL|NULL|NULL|NULL|NULL|NULL|NULL|NULL|NULL|NULL|NULL|NULL|NULL|NULL|13.707349248860847|13.551456738425335|13.4276574679127  |13.855267031654417|13.443234104749395|13.205168652978614|13.751857677151468|13.402646670990288|13.30758105681887 |13.252659143947387|13.353163874739408|13.521286917792146|13.490335938686147|13.423761075604805|13.263965058342647|13.449658452430054|13.969446980455134|14.295317233612048|14.90090544487674 |15.583444684909146|15.609754117954532|15.747552267040982|15.327337814047612|16.19743700059771 |16.814400749592874|16.86794401825411 |17.274500961333036|16.89139414148555 |17.374598165412337|18.21995280361071 |18.03916266392755 |18.282790615589725|19.38371871612688 |20.612620733152127|NULL|\n",
      "|Spain       |ESP         |Renewable electricity output (% of total electricity output)             |EG.ELC.RNEW.ZS      |NULL|NULL|NULL|NULL|NULL|NULL|NULL|NULL|NULL|NULL|NULL|NULL|NULL|NULL|NULL|NULL|NULL|NULL|NULL|NULL|NULL|NULL|NULL|NULL|NULL|NULL|17.1349960177195  |17.849051033048568|12.349894784591928|16.022754811800873|17.954563709044628|14.588545095457539|23.64165792535782 |19.417338053171708|18.895479878698467|13.113274140803949|16.947181780922   |22.145350709213847|15.601487644467667|22.69836520831895 |19.106324158671878|15.948551939418461|18.709395944019047|20.161086871719895|20.69210984261756 |26.077998778087025|33.49059951513463 |30.573138401957483|30.441080394410502|40.46947985337726 |40.92230644773613 |35.711556329228834|39.34977490346507 |32.89207401550815 |38.75869004416073 |37.77249988106435 |44.52772303918777 |47.014913674939486|NULL              |NULL              |NULL|\n",
      "+------------+------------+-------------------------------------------------------------------------+--------------------+----+----+----+----+----+----+----+----+----+----+----+----+----+----+----+----+----+----+----+----+----+----+----+----+----+----+------------------+------------------+------------------+------------------+------------------+------------------+------------------+------------------+------------------+------------------+------------------+------------------+------------------+------------------+------------------+------------------+------------------+------------------+------------------+------------------+------------------+------------------+------------------+------------------+------------------+------------------+------------------+------------------+------------------+------------------+------------------+------------------+------------------+------------------+----+\n",
      "\n"
     ]
    }
   ],
   "source": [
    "# 3. Show all 'energy' indicators for a given country in wide form\n",
    "category = \"energy\"\n",
    "country = \"ESP\"\n",
    "\n",
    "energy_codes = indicators[category]\n",
    "years    = [str(y) for y in range(1964, 2025)]\n",
    "\n",
    "df_focus \\\n",
    "    .filter((col(\"Country Code\") == country) & col(\"Indicator Code\").isin(energy_codes)) \\\n",
    "    .select(\"Country Name\", \"Country Code\", \"Indicator Name\", \"Indicator Code\", *years) \\\n",
    "    .show(truncate=False)\n"
   ]
  }
 ],
 "metadata": {
  "kernelspec": {
   "display_name": "wdi-env",
   "language": "python",
   "name": "python3"
  },
  "language_info": {
   "codemirror_mode": {
    "name": "ipython",
    "version": 3
   },
   "file_extension": ".py",
   "mimetype": "text/x-python",
   "name": "python",
   "nbconvert_exporter": "python",
   "pygments_lexer": "ipython3",
   "version": "3.12.3"
  }
 },
 "nbformat": 4,
 "nbformat_minor": 5
}
