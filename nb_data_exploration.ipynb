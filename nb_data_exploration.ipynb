{
 "cells": [
  {
   "cell_type": "code",
   "execution_count": 3,
   "metadata": {},
   "outputs": [],
   "source": [
    "from pyspark.sql import SparkSession\n",
    "from pyspark.sql.functions import col"
   ]
  },
  {
   "cell_type": "code",
   "execution_count": 4,
   "metadata": {},
   "outputs": [
    {
     "name": "stderr",
     "output_type": "stream",
     "text": [
      "24/07/21 20:20:19 WARN Utils: Your hostname, jfgs resolves to a loopback address: 127.0.1.1; using 192.168.18.129 instead (on interface ens33)\n",
      "24/07/21 20:20:19 WARN Utils: Set SPARK_LOCAL_IP if you need to bind to another address\n",
      "Setting default log level to \"WARN\".\n",
      "To adjust logging level use sc.setLogLevel(newLevel). For SparkR, use setLogLevel(newLevel).\n",
      "24/07/21 20:20:21 WARN NativeCodeLoader: Unable to load native-hadoop library for your platform... using builtin-java classes where applicable\n"
     ]
    },
    {
     "name": "stderr",
     "output_type": "stream",
     "text": [
      "24/07/21 20:20:38 WARN GarbageCollectionMetrics: To enable non-built-in garbage collector(s) List(G1 Concurrent GC), users should configure it(them) to spark.eventLog.gcMetrics.youngGenerationGarbageCollectors or spark.eventLog.gcMetrics.oldGenerationGarbageCollectors\n"
     ]
    }
   ],
   "source": [
    "# Initializing SparkSession\n",
    "spark = SparkSession.builder \\\n",
    "    .appName(\"CSV Analysis\") \\\n",
    "    .getOrCreate()"
   ]
  },
  {
   "cell_type": "markdown",
   "metadata": {},
   "source": [
    "## COUNTRIES_INDICATORS"
   ]
  },
  {
   "cell_type": "code",
   "execution_count": null,
   "metadata": {},
   "outputs": [],
   "source": [
    "\n",
    "# Read CSV file\n",
    "df = spark.read.option(\"header\", \"true\").csv(\"data/Countries_Indicators.csv\")"
   ]
  },
  {
   "cell_type": "code",
   "execution_count": null,
   "metadata": {},
   "outputs": [],
   "source": [
    "# Show the schema of the DataFrame\n",
    "df.printSchema()"
   ]
  },
  {
   "cell_type": "code",
   "execution_count": null,
   "metadata": {},
   "outputs": [],
   "source": [
    "# Show first rows of DataFrame\n",
    "df.show(5)"
   ]
  },
  {
   "cell_type": "code",
   "execution_count": null,
   "metadata": {},
   "outputs": [],
   "source": [
    "# Example analysis: filtering data by a specific country\n",
    "country_name = \"United States\"\n",
    "df_filtered = df.filter(col(\"Country Name\") == country_name)\n",
    "\n",
    "# Show result\n",
    "df_filtered.show()"
   ]
  },
  {
   "cell_type": "code",
   "execution_count": null,
   "metadata": {},
   "outputs": [],
   "source": [
    "# Example of analysis: selecting and displaying columns for specific years\n",
    "years = [\"2000\", \"2010\", \"2020\"]\n",
    "df_years = df.select(\"Country Name\", \"Country Code\", *years)\n",
    "\n",
    "# Show DataFrame with selected year columns\n",
    "df_years.show()"
   ]
  },
  {
   "cell_type": "code",
   "execution_count": null,
   "metadata": {},
   "outputs": [],
   "source": [
    "# Close SparkSession\n",
    "spark.stop()"
   ]
  },
  {
   "cell_type": "markdown",
   "metadata": {},
   "source": [
    "## COUNTRIES"
   ]
  },
  {
   "cell_type": "code",
   "execution_count": 5,
   "metadata": {},
   "outputs": [
    {
     "name": "stderr",
     "output_type": "stream",
     "text": [
      "                                                                                \r"
     ]
    },
    {
     "name": "stdout",
     "output_type": "stream",
     "text": [
      "root\n",
      " |-- Country Code: string (nullable = true)\n",
      " |-- Short Name: string (nullable = true)\n",
      " |-- Table Name: string (nullable = true)\n",
      " |-- Long Name: string (nullable = true)\n",
      " |-- 2-alpha code: string (nullable = true)\n",
      " |-- Currency Unit: string (nullable = true)\n",
      " |-- Special Notes: string (nullable = true)\n",
      " |-- Region: string (nullable = true)\n",
      " |-- Income Group: string (nullable = true)\n",
      " |-- WB-2 code: string (nullable = true)\n",
      " |-- National accounts base year: string (nullable = true)\n",
      " |-- National accounts reference year: string (nullable = true)\n",
      " |-- SNA price valuation: string (nullable = true)\n",
      " |-- Lending category: string (nullable = true)\n",
      " |-- Other groups: string (nullable = true)\n",
      " |-- System of National Accounts: string (nullable = true)\n",
      " |-- Alternative conversion factor: string (nullable = true)\n",
      " |-- PPP survey year: string (nullable = true)\n",
      " |-- Balance of Payments Manual in use: string (nullable = true)\n",
      " |-- External debt Reporting status: string (nullable = true)\n",
      " |-- System of trade: string (nullable = true)\n",
      " |-- Government Accounting concept: string (nullable = true)\n",
      " |-- IMF data dissemination standard: string (nullable = true)\n",
      " |-- Latest population census: string (nullable = true)\n",
      " |-- Latest household survey: string (nullable = true)\n",
      " |-- Source of most recent Income and expenditure data: string (nullable = true)\n",
      " |-- Vital registration complete: string (nullable = true)\n",
      " |-- Latest agricultural census: string (nullable = true)\n",
      " |-- Latest industrial data: string (nullable = true)\n",
      " |-- Latest trade data: string (nullable = true)\n",
      " |-- Latest water withdrawal data: string (nullable = true)\n",
      "\n"
     ]
    },
    {
     "name": "stderr",
     "output_type": "stream",
     "text": [
      "24/07/21 20:21:21 WARN SparkStringUtils: Truncated the string representation of a plan since it was too large. This behavior can be adjusted by setting 'spark.sql.debug.maxToStringFields'.\n"
     ]
    },
    {
     "name": "stdout",
     "output_type": "stream",
     "text": [
      "+------------+--------------------+--------------------+--------------------+------------+--------------+--------------------+--------------------+-------------------+---------+---------------------------+--------------------------------+--------------------+----------------+------------+---------------------------+-----------------------------+---------------+---------------------------------+------------------------------+--------------------+-----------------------------+-------------------------------+------------------------+-----------------------+-------------------------------------------------+---------------------------+--------------------------+----------------------+-----------------+----------------------------+\n",
      "|Country Code|          Short Name|          Table Name|           Long Name|2-alpha code| Currency Unit|       Special Notes|              Region|       Income Group|WB-2 code|National accounts base year|National accounts reference year| SNA price valuation|Lending category|Other groups|System of National Accounts|Alternative conversion factor|PPP survey year|Balance of Payments Manual in use|External debt Reporting status|     System of trade|Government Accounting concept|IMF data dissemination standard|Latest population census|Latest household survey|Source of most recent Income and expenditure data|Vital registration complete|Latest agricultural census|Latest industrial data|Latest trade data|Latest water withdrawal data|\n",
      "+------------+--------------------+--------------------+--------------------+------------+--------------+--------------------+--------------------+-------------------+---------+---------------------------+--------------------------------+--------------------+----------------+------------+---------------------------+-----------------------------+---------------+---------------------------------+------------------------------+--------------------+-----------------------------+-------------------------------+------------------------+-----------------------+-------------------------------------------------+---------------------------+--------------------------+----------------------+-----------------+----------------------------+\n",
      "|         ABW|               Aruba|               Aruba|               Aruba|          AW| Aruban florin|                NULL|Latin America & C...|        High income|       AW|                       2013|                            NULL|Value added at ba...|            NULL|        NULL|       Country uses the ...|                         NULL|           NULL|                             BPM6|                          NULL|General trade system|                         NULL|           Enhanced General ...|         2020 (expected)|                   NULL|                                             NULL|                        Yes|                      NULL|                  NULL|             2018|                        NULL|\n",
      "|         AFE|Africa Eastern an...|Africa Eastern an...|Africa Eastern an...|          ZH|          NULL|26 countries, str...|                NULL|               NULL|       ZH|                       NULL|                            NULL|                NULL|            NULL|        NULL|                       NULL|                         NULL|           NULL|                             NULL|                          NULL|                NULL|                         NULL|                           NULL|                    NULL|                   NULL|                                             NULL|                       NULL|                      NULL|                  NULL|             NULL|                        NULL|\n",
      "|         AFG|         Afghanistan|         Afghanistan|Islamic State of ...|          AF|Afghan afghani|The reporting per...|          South Asia|         Low income|       AF|                       2016|                            NULL|Value added at ba...|             IDA|        HIPC|       Country uses the ...|                         NULL|           NULL|                             BPM6|                      Estimate|General trade system|         Consolidated cent...|           Enhanced General ...|                    1979|   Demographic and H...|                             Integrated househ...|                       NULL|                      NULL|                  NULL|             2018|                        NULL|\n",
      "|         AFW|Africa Western an...|Africa Western an...|Africa Western an...|          ZI|          NULL|22 countries, str...|                NULL|               NULL|       ZI|                       NULL|                            NULL|                NULL|            NULL|        NULL|                       NULL|                         NULL|           NULL|                             NULL|                          NULL|                NULL|                         NULL|                           NULL|                    NULL|                   NULL|                                             NULL|                       NULL|                      NULL|                  NULL|             NULL|                        NULL|\n",
      "|         AGO|              Angola|              Angola|People's Republic...|          AO|Angolan kwanza|The World Bank sy...|  Sub-Saharan Africa|Lower middle income|       AO|                       2002|                            NULL|Value added at ba...|            IBRD|        NULL|       Country uses the ...|                         NULL|           NULL|                             BPM6|                        Actual|General trade system|         Budgetary central...|           Enhanced General ...|                    2014|   Demographic and H...|                             Integrated househ...|                       NULL|                      NULL|                  NULL|             2018|                        NULL|\n",
      "+------------+--------------------+--------------------+--------------------+------------+--------------+--------------------+--------------------+-------------------+---------+---------------------------+--------------------------------+--------------------+----------------+------------+---------------------------+-----------------------------+---------------+---------------------------------+------------------------------+--------------------+-----------------------------+-------------------------------+------------------------+-----------------------+-------------------------------------------------+---------------------------+--------------------------+----------------------+-----------------+----------------------------+\n",
      "only showing top 5 rows\n",
      "\n"
     ]
    }
   ],
   "source": [
    "#Countries.csv\n",
    "df = spark.read.option(\"header\", \"true\").csv(\"data/Countries.csv\")\n",
    "df.printSchema()\n",
    "df.show(5)"
   ]
  },
  {
   "cell_type": "code",
   "execution_count": 6,
   "metadata": {},
   "outputs": [
    {
     "name": "stdout",
     "output_type": "stream",
     "text": [
      "+------------+--------------------+--------------------+--------------------+------------+-------------+--------------------+--------------------+-------------------+---------+---------------------------+--------------------------------+--------------------+----------------+------------+---------------------------+-----------------------------+---------------+---------------------------------+------------------------------+--------------------+-----------------------------+-------------------------------+------------------------+-----------------------+-------------------------------------------------+---------------------------+--------------------------+----------------------+-----------------+----------------------------+\n",
      "|Country Code|          Short Name|          Table Name|           Long Name|2-alpha code|Currency Unit|       Special Notes|              Region|       Income Group|WB-2 code|National accounts base year|National accounts reference year| SNA price valuation|Lending category|Other groups|System of National Accounts|Alternative conversion factor|PPP survey year|Balance of Payments Manual in use|External debt Reporting status|     System of trade|Government Accounting concept|IMF data dissemination standard|Latest population census|Latest household survey|Source of most recent Income and expenditure data|Vital registration complete|Latest agricultural census|Latest industrial data|Latest trade data|Latest water withdrawal data|\n",
      "+------------+--------------------+--------------------+--------------------+------------+-------------+--------------------+--------------------+-------------------+---------+---------------------------+--------------------------------+--------------------+----------------+------------+---------------------------+-----------------------------+---------------+---------------------------------+------------------------------+--------------------+-----------------------------+-------------------------------+------------------------+-----------------------+-------------------------------------------------+---------------------------+--------------------------+----------------------+-----------------+----------------------------+\n",
      "|         AND|             Andorra|             Andorra|Principality of A...|          AD|         Euro|                NULL|Europe & Central ...|        High income|       AD|                       2010|                            NULL|Value added at ba...|            NULL|        NULL|       Country uses the ...|                         NULL|           NULL|                             NULL|                          NULL|General trade system|                         NULL|                           NULL|    2011. Population ...|                   NULL|                                             NULL|                        Yes|                      NULL|                  NULL|             2018|                        NULL|\n",
      "|         AUT|             Austria|             Austria| Republic of Austria|          AT|         Euro|A simple multipli...|Europe & Central ...|        High income|       AT|       Original chained ...|                            2015|Value added at ba...|            NULL|   Euro area|       Country uses the ...|                         NULL|           NULL|                             BPM6|                          NULL|Special trade system|         Consolidated cent...|           Special Data Diss...|    2011. Population ...|                   NULL|                             Income survey (IS...|                        Yes|                      2010|                  2014|             2018|                        NULL|\n",
      "|         BEL|             Belgium|             Belgium|  Kingdom of Belgium|          BE|         Euro|A simple multipli...|Europe & Central ...|        High income|       BE|       Original chained ...|                            2015|Value added at ba...|            NULL|   Euro area|       Country uses the ...|                         NULL|           NULL|                             BPM6|                          NULL|Special trade system|         Consolidated cent...|           Special Data Diss...|    2011. Population ...|                   NULL|                             Income survey (IS...|                        Yes|                      2010|                  2014|             2018|                        NULL|\n",
      "|         CYP|              Cyprus|              Cyprus|  Republic of Cyprus|          CY|         Euro|A simple multipli...|Europe & Central ...|        High income|       CY|       Original chained ...|                            2010|Value added at ba...|            NULL|   Euro area|       Country uses the ...|                         NULL|           NULL|                             BPM6|                          NULL|General trade system|         Consolidated cent...|           Special Data Diss...|                    2011|                   NULL|                             Income survey (IS...|                        Yes|                      2010|                  2014|             2018|                        NULL|\n",
      "|         DEU|             Germany|             Germany|Federal Republic ...|          DE|         Euro|A simple multipli...|Europe & Central ...|        High income|       DE|       Original chained ...|                            2015|Value added at ba...|            NULL|   Euro area|       Country uses the ...|                         NULL|           NULL|                             BPM6|                          NULL|Special trade system|         Consolidated cent...|           Special Data Diss...|    2011. Population ...|                   NULL|                             Income survey (IS...|                        Yes|                      2010|                  2014|             2018|                        NULL|\n",
      "|         ESP|               Spain|               Spain|    Kingdom of Spain|          ES|         Euro|A simple multipli...|Europe & Central ...|        High income|       ES|       Original chained ...|                            2015|Value added at ba...|            NULL|   Euro area|       Country uses the ...|                         NULL|           NULL|                             BPM6|                          NULL|Special trade system|         Consolidated cent...|           Special Data Diss...|    2011. Population ...|                   NULL|                             Income survey (IS...|                        Yes|                      2009|                  2014|             2018|                        NULL|\n",
      "|         EST|             Estonia|             Estonia| Republic of Estonia|          EE|         Euro|The following irr...|Europe & Central ...|        High income|       EE|       Original chained ...|                            2015|Value added at ba...|            NULL|   Euro area|       Country uses the ...|                         NULL|           NULL|                             BPM6|                          NULL|General trade system|         Consolidated cent...|           Special Data Diss...|    2012. Population ...|   World Health Surv...|                             Income survey (IS...|                        Yes|                      2010|                  2014|             2018|                        NULL|\n",
      "|         FIN|             Finland|             Finland| Republic of Finland|          FI|         Euro|A simple multipli...|Europe & Central ...|        High income|       FI|       Original chained ...|                            2015|Value added at ba...|            NULL|   Euro area|       Country uses the ...|                         NULL|           NULL|                             BPM6|                          NULL|Special trade system|         Consolidated cent...|           Special Data Diss...|    2020 (expected). ...|                   NULL|                             Income survey (IS...|                        Yes|                      2010|                  2014|             2018|                        NULL|\n",
      "|         FRA|              France|              France|     French Republic|          FR|         Euro|The following irr...|Europe & Central ...|        High income|       FR|       Original chained ...|                            2015|Value added at ba...|            NULL|   Euro area|       Country uses the ...|                         NULL|           NULL|                             BPM6|                          NULL|Special trade system|         Consolidated cent...|           Special Data Diss...|                    2016|                   NULL|                             Income survey (IS...|                        Yes|                      2010|                  2014|             2018|                        NULL|\n",
      "|         GRC|              Greece|              Greece|   Hellenic Republic|          GR|         Euro|A simple multipli...|Europe & Central ...|        High income|       GR|       Original chained ...|                            2015|Value added at ba...|            NULL|   Euro area|       Country uses the ...|                         NULL|           NULL|                             BPM6|                          NULL|Special trade system|         Consolidated cent...|           Special Data Diss...|                    2011|                   NULL|                             Income survey (IS...|                        Yes|                      2009|                  2013|             2018|                        NULL|\n",
      "|         HRV|             Croatia|             Croatia| Republic of Croatia|          HR|         Euro|A simple multipli...|Europe & Central ...|        High income|       HR|       Original chained ...|                            2015|Value added at ba...|            IBRD|   Euro area|       Country uses the ...|                         NULL|           NULL|                             BPM6|                          NULL|Special trade system|         Budgetary central...|           Special Data Diss...|                    2011|   World Health Surv...|                             Income survey (IS...|                        Yes|      2010. Economic Ce...|                  1996|             2018|                        NULL|\n",
      "|         IRL|             Ireland|             Ireland|             Ireland|          IE|         Euro|A simple multipli...|Europe & Central ...|        High income|       IE|       Original chained ...|                            2015|Value added at ba...|            NULL|   Euro area|       Country uses the ...|                         NULL|           NULL|                             BPM6|                          NULL|General trade system|         Consolidated cent...|           Special Data Diss...|                    2016|                   NULL|                             Income survey (IS...|                        Yes|                      2010|                  2012|             2018|                        NULL|\n",
      "|         ITA|               Italy|               Italy|    Italian Republic|          IT|         Euro|A simple multipli...|Europe & Central ...|        High income|       IT|       Original chained ...|                            2015|Value added at ba...|            NULL|   Euro area|       Country uses the ...|                         NULL|           NULL|                             BPM6|                          NULL|Special trade system|         Consolidated cent...|           Special Data Diss...|    2012. Population ...|                   NULL|                             Income survey (IS...|                        Yes|                      2010|                  2014|             2018|                        NULL|\n",
      "|         LTU|           Lithuania|           Lithuania|Republic of Lithu...|          LT|         Euro|A simple multipli...|Europe & Central ...|        High income|       LT|       Original chained ...|                            2015|Value added at ba...|            NULL|   Euro area|       Country uses the ...|                         NULL|           NULL|                             BPM6|                          NULL|Special trade system|         Consolidated cent...|           Special Data Diss...|    2020 (expected). ...|                   NULL|                             Income survey (IS...|                        Yes|                      2010|                  2014|             2018|                        NULL|\n",
      "|         LUX|          Luxembourg|          Luxembourg|Grand Duchy of Lu...|          LU|         Euro|A simple multipli...|Europe & Central ...|        High income|       LU|       Original chained ...|                            2015|Value added at ba...|            NULL|   Euro area|       Country uses the ...|                         NULL|           NULL|                             BPM6|                          NULL|Special trade system|         Consolidated cent...|           Special Data Diss...|                    2011|                   NULL|                             Income survey (IS...|                        Yes|                      2010|                  2013|             2018|                        NULL|\n",
      "|         LVA|              Latvia|              Latvia|  Republic of Latvia|          LV|         Euro|A simple multipli...|Europe & Central ...|        High income|       LV|       Original chained ...|                            2015|Value added at ba...|            NULL|   Euro area|       Country uses the ...|                         NULL|           NULL|                             BPM6|                          NULL|Special trade system|         Consolidated cent...|           Special Data Diss...|    2011. Population ...|   World Health Surv...|                             Income survey (IS...|                        Yes|                      2010|                  2013|             2018|                        NULL|\n",
      "|         MAF|St. Martin (Frenc...|St. Martin (Frenc...|St. Martin (Frenc...|          MF|         Euro|                NULL|Latin America & C...|        High income|       MF|                       NULL|                            NULL|                NULL|            NULL|        NULL|                       NULL|                         NULL|           NULL|                             NULL|                          NULL|                NULL|                         NULL|                           NULL|                    2015|                   NULL|                                             NULL|                        Yes|                      NULL|                  NULL|             NULL|                        NULL|\n",
      "|         MCO|              Monaco|              Monaco|Principality of M...|          MC|         Euro|                NULL|Europe & Central ...|        High income|       MC|       Original chained ...|                            2014|Value added at ba...|            NULL|        NULL|       Country uses the ...|                         NULL|           NULL|                             NULL|                          NULL|                NULL|                         NULL|                           NULL|    2016. Population ...|                   NULL|                                             NULL|                        Yes|                      NULL|                  NULL|             NULL|                        NULL|\n",
      "|         MLT|               Malta|               Malta|   Republic of Malta|          MT|         Euro|A simple multipli...|Middle East & Nor...|        High income|       MT|       Original chained ...|                            2015|Value added at ba...|            NULL|   Euro area|       Country uses the ...|                         NULL|           NULL|                             BPM6|                          NULL|General trade system|         Consolidated cent...|           Special Data Diss...|                    2011|                   NULL|                             Income survey (IS...|                        Yes|                      2010|                  2009|             2018|                        NULL|\n",
      "|         MNE|          Montenegro|          Montenegro|          Montenegro|          ME|         Euro|Montenegro declar...|Europe & Central ...|Upper middle income|       ME|       Original chained ...|                            2010|Value added at ba...|            IBRD|        NULL|       Country uses the ...|                         NULL|           NULL|                             BPM6|                        Actual|Special trade system|                         NULL|           Enhanced General ...|                    2011|   Multiple Indicato...|                             Expenditure surve...|                        Yes|                      2010|                  NULL|             2018|                        NULL|\n",
      "+------------+--------------------+--------------------+--------------------+------------+-------------+--------------------+--------------------+-------------------+---------+---------------------------+--------------------------------+--------------------+----------------+------------+---------------------------+-----------------------------+---------------+---------------------------------+------------------------------+--------------------+-----------------------------+-------------------------------+------------------------+-----------------------+-------------------------------------------------+---------------------------+--------------------------+----------------------+-----------------+----------------------------+\n",
      "only showing top 20 rows\n",
      "\n"
     ]
    }
   ],
   "source": [
    "currency = \"Euro\"\n",
    "df_filtered = df.filter(col(\"Currency Unit\") == currency)\n",
    "\n",
    "df_filtered.show()"
   ]
  },
  {
   "cell_type": "markdown",
   "metadata": {},
   "source": [
    "## INDICATORS"
   ]
  },
  {
   "cell_type": "code",
   "execution_count": 7,
   "metadata": {},
   "outputs": [
    {
     "name": "stdout",
     "output_type": "stream",
     "text": [
      "root\n",
      " |-- Series Code: string (nullable = true)\n",
      " |-- Topic: string (nullable = true)\n",
      " |-- Indicator Name: string (nullable = true)\n",
      " |-- Short definition: string (nullable = true)\n",
      " |-- Long definition: string (nullable = true)\n",
      " |-- Unit of measure: string (nullable = true)\n",
      " |-- Periodicity: string (nullable = true)\n",
      " |-- Base Period: string (nullable = true)\n",
      " |-- Other notes: string (nullable = true)\n",
      " |-- Aggregation method: string (nullable = true)\n",
      " |-- Limitations and exceptions: string (nullable = true)\n",
      " |-- Notes from original source: string (nullable = true)\n",
      " |-- General comments: string (nullable = true)\n",
      " |-- Source: string (nullable = true)\n",
      " |-- Statistical concept and methodology: string (nullable = true)\n",
      " |-- Development relevance: string (nullable = true)\n",
      " |-- Related source links: string (nullable = true)\n",
      " |-- Other web links: string (nullable = true)\n",
      " |-- Related indicators: string (nullable = true)\n",
      " |-- License Type: string (nullable = true)\n",
      "\n",
      "+-----------------+--------------------+--------------------+----------------+--------------------+---------------+-----------+-----------+--------------------+------------------+--------------------------+--------------------------+----------------+--------------------+-----------------------------------+---------------------+--------------------+---------------+--------------------+--------------------+\n",
      "|      Series Code|               Topic|      Indicator Name|Short definition|     Long definition|Unit of measure|Periodicity|Base Period|         Other notes|Aggregation method|Limitations and exceptions|Notes from original source|General comments|              Source|Statistical concept and methodology|Development relevance|Related source links|Other web links|  Related indicators|        License Type|\n",
      "+-----------------+--------------------+--------------------+----------------+--------------------+---------------+-----------+-----------+--------------------+------------------+--------------------------+--------------------------+----------------+--------------------+-----------------------------------+---------------------+--------------------+---------------+--------------------+--------------------+\n",
      "|   AG.AGR.TRAC.NO|Environment: Agri...|Agricultural mach...|            NULL|Agricultural mach...|           NULL|     Annual|       NULL|                NULL|               Sum|      The data are coll...|                      NULL|            NULL|Food and Agricult...|               \"A tractor provid...|          for plowing|             tilling|        disking|           harrowing|            planting|\n",
      "|AG.CON.FERT.PT.ZS|Environment: Agri...|Fertilizer consum...|            NULL|Fertilizer consum...|           NULL|     Annual|       NULL|The world and reg...|  Weighted average|      The FAO has revis...|                      NULL|            NULL|Food and Agricult...|               \"Fertilizer consu...| \"\" such as zinc a...| composts and oth...|     and wastes| such as sewage s...| temporary meadow...|\n",
      "|   AG.CON.FERT.ZS|Environment: Agri...|Fertilizer consum...|            NULL|Fertilizer consum...|           NULL|     Annual|       NULL|The world and reg...|  Weighted average|      The FAO has revis...|                      NULL|            NULL|Food and Agricult...|               \"Fertilizer consu...| \"\" such as zinc a...| composts and oth...|     and wastes| such as sewage s...| temporary meadow...|\n",
      "|   AG.LND.AGRI.K2|Environment: Land...|Agricultural land...|            NULL|Agricultural land...|           NULL|     Annual|       NULL|Areas of former s...|               Sum|      The data are coll...|                      NULL|            NULL|Food and Agricult...|               Agricultural land...| Agricultural land...|                NULL|           NULL|                NULL|           CC BY-4.0|\n",
      "|   AG.LND.AGRI.ZS|Environment: Land...|Agricultural land...|            NULL|Agricultural land...|           NULL|     Annual|       NULL|Areas of former s...|  Weighted average|      The data are coll...|                      NULL|            NULL|Food and Agricult...|               Agriculture is st...| Agricultural land...|                NULL|           NULL|                NULL|           CC BY-4.0|\n",
      "+-----------------+--------------------+--------------------+----------------+--------------------+---------------+-----------+-----------+--------------------+------------------+--------------------------+--------------------------+----------------+--------------------+-----------------------------------+---------------------+--------------------+---------------+--------------------+--------------------+\n",
      "only showing top 5 rows\n",
      "\n"
     ]
    }
   ],
   "source": [
    "#Indicators.csv\n",
    "df = spark.read.option(\"header\", \"true\").csv(\"data/Indicators.csv\")\n",
    "df.printSchema()\n",
    "df.show(5)"
   ]
  },
  {
   "cell_type": "code",
   "execution_count": 8,
   "metadata": {},
   "outputs": [
    {
     "name": "stdout",
     "output_type": "stream",
     "text": [
      "+-----------------+--------------------+--------------------+--------------------+--------------------+---------------+-----------+-----------+-----------+------------------+--------------------------+--------------------------+----------------+--------------------+-----------------------------------+---------------------+--------------------+--------------------+------------------+--------------------+\n",
      "|      Series Code|               Topic|      Indicator Name|    Short definition|     Long definition|Unit of measure|Periodicity|Base Period|Other notes|Aggregation method|Limitations and exceptions|Notes from original source|General comments|              Source|Statistical concept and methodology|Development relevance|Related source links|     Other web links|Related indicators|        License Type|\n",
      "+-----------------+--------------------+--------------------+--------------------+--------------------+---------------+-----------+-----------+-----------+------------------+--------------------------+--------------------------+----------------+--------------------+-----------------------------------+---------------------+--------------------+--------------------+------------------+--------------------+\n",
      "|GB.XPD.RSDV.GD.ZS|Infrastructure: T...|Research and deve...|                NULL|Gross domestic ex...|           NULL|     Annual|       NULL|       NULL|  Weighted average|      Estimates of the ...|                      NULL|            NULL|UNESCO Institute ...|               \"The gross domest...|  including knowle...| culture and society| and the use of t...|  applied research| and experimental...|\n",
      "|      IP.IDS.NRCT|Infrastructure: T...|Industrial design...|                NULL|Industrial design...|           NULL|     Annual|       NULL|       NULL|               Sum|      An industrial des...|                      NULL|            NULL|World Intellectua...|                               NULL|                 NULL|                NULL|                NULL|              NULL|           CC BY-4.0|\n",
      "|      IP.IDS.RSCT|Infrastructure: T...|Industrial design...|                NULL|Industrial design...|           NULL|     Annual|       NULL|       NULL|               Sum|      An industrial des...|                      NULL|            NULL|World Intellectua...|                               NULL|                 NULL|                NULL|                NULL|              NULL|           CC BY-4.0|\n",
      "|   IP.JRN.ARTC.SC|Infrastructure: T...|Scientific and te...|                NULL|Scientific and te...|           NULL|     Annual|       NULL|       NULL|  Gap-filled total|      Scientific and te...|                      NULL|            NULL|National Science ...|               The number of sci...| A scientific jour...|                NULL|                NULL|              NULL|           CC BY-4.0|\n",
      "|      IP.PAT.NRES|Infrastructure: T...|Patent applicatio...|Patent applicatio...|Patent applicatio...|           NULL|     Annual|       NULL|       NULL|               Sum|      A patent is an ex...|                      NULL|            NULL|World Intellectua...|               Non-resident pate...| The Patent Cooper...|                NULL|                NULL|              NULL|           CC BY-4.0|\n",
      "|      IP.PAT.RESD|Infrastructure: T...|Patent applicatio...|Patent applicatio...|Patent applicatio...|           NULL|     Annual|       NULL|       NULL|               Sum|      A patent is an ex...|                      NULL|            NULL|World Intellectua...|               Resident patent a...| The Patent Cooper...|                NULL|                NULL|              NULL|           CC BY-4.0|\n",
      "|      IP.TMK.NRCT|Infrastructure: T...|Trademark applica...|                NULL|Trademark applica...|           NULL|     Annual|       NULL|       NULL|               Sum|      Depending on diff...|                      NULL|            NULL|World Intellectua...|                               NULL|                 NULL|                NULL|                NULL|              NULL|           CC BY-4.0|\n",
      "|      IP.TMK.RSCT|Infrastructure: T...|Trademark applica...|                NULL|Trademark applica...|           NULL|     Annual|       NULL|       NULL|               Sum|      Depending on diff...|                      NULL|            NULL|World Intellectua...|                               NULL|                 NULL|                NULL|                NULL|              NULL|           CC BY-4.0|\n",
      "|SP.POP.SCIE.RD.P6|Infrastructure: T...|Researchers in R&...|                NULL|The number of res...|           NULL|     Annual|       NULL|       NULL|  Weighted average|      Estimates of the ...|                      NULL|            NULL|UNESCO Institute ...|               \"Researchers are ...|  including knowle...| culture and society| and the use of t...|  applied research| and experimental...|\n",
      "|SP.POP.TECH.RD.P6|Infrastructure: T...|Technicians in R&...|                NULL|The number of tec...|           NULL|     Annual|       NULL|       NULL|  Weighted average|      Estimates of the ...|                      NULL|            NULL|UNESCO Institute ...|               \"Technicians in r...|  including knowle...| culture and society| and the use of t...|  applied research| and experimental...|\n",
      "|TX.MNF.TECH.ZS.UN|Infrastructure: T...|Medium and high-t...|                NULL|Share of medium a...|           NULL|     Annual|       NULL|       NULL|              NULL|      Missing values at...|                      NULL|            NULL|United Nations In...|               The data from UN ...| Industrial develo...|                NULL|                NULL|              NULL|           CC BY-4.0|\n",
      "|   TX.VAL.TECH.CD|Infrastructure: T...|High-technology e...|                NULL|High-technology e...|           NULL|     Annual|       NULL|       NULL|               Sum|      Because industria...|                      NULL|            NULL|United Nations, C...|               High technology p...| The OECD has deve...|                NULL|                NULL|              NULL|           CC BY-4.0|\n",
      "|TX.VAL.TECH.MF.ZS|Infrastructure: T...|High-technology e...|                NULL|High-technology e...|           NULL|     Annual|       NULL|       NULL|  Weighted average|      Because industria...|                      NULL|            NULL|United Nations, C...|               \"The method for d...|                Italy|               Japan|     the Netherlands|            Sweden| and the United S...|\n",
      "+-----------------+--------------------+--------------------+--------------------+--------------------+---------------+-----------+-----------+-----------+------------------+--------------------------+--------------------------+----------------+--------------------+-----------------------------------+---------------------+--------------------+--------------------+------------------+--------------------+\n",
      "\n"
     ]
    }
   ],
   "source": [
    "topic = \"Infrastructure: Technology\"\n",
    "df_filtered = df.filter(col(\"Topic\") == topic)\n",
    "\n",
    "df_filtered.show()"
   ]
  }
 ],
 "metadata": {
  "kernelspec": {
   "display_name": "Python 3",
   "language": "python",
   "name": "python3"
  },
  "language_info": {
   "codemirror_mode": {
    "name": "ipython",
    "version": 3
   },
   "file_extension": ".py",
   "mimetype": "text/x-python",
   "name": "python",
   "nbconvert_exporter": "python",
   "pygments_lexer": "ipython3",
   "version": "3.10.12"
  }
 },
 "nbformat": 4,
 "nbformat_minor": 2
}
